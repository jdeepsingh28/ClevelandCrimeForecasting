{
 "cells": [
  {
   "cell_type": "code",
   "execution_count": 1,
   "id": "165f8983",
   "metadata": {},
   "outputs": [
    {
     "name": "stderr",
     "output_type": "stream",
     "text": [
      "C:\\Users\\singh\\AppData\\Local\\Temp\\ipykernel_423712\\3148661739.py:3: DtypeWarning: Columns (20) have mixed types. Specify dtype option on import or set low_memory=False.\n",
      "  crime = pd.read_csv(r\"\\Users\\singh\\Downloads\\crime_with_weather.csv\")\n"
     ]
    }
   ],
   "source": [
    "import pandas as pd\n",
    "\n",
    "crime = pd.read_csv(r\"\\Users\\singh\\Downloads\\crime_with_weather.csv\")"
   ]
  },
  {
   "cell_type": "code",
   "execution_count": 2,
   "id": "69e5f4cd-27ee-465d-b6ff-6cc12631df7a",
   "metadata": {
    "tags": []
   },
   "outputs": [
    {
     "data": {
      "text/plain": [
       "Index(['object_id', 'primary_key', 'case_number', 'district', 'ucr_desc',\n",
       "       'time_group', 'reported_date', 'offense_month', 'offense_day',\n",
       "       'time_block', 'dow_name', 'dow', 'hour_of_day', 'days_ago',\n",
       "       'offense_date', 'statute', 'city', 'zip', 'stat_desc', 'address_public',\n",
       "       'std_parcelpin', 'ward', 'census_tract', 'census_tract_geoid',\n",
       "       'census_block_group', 'census_bg_geoid', 'census_block',\n",
       "       'census_block_geoid', 'lat', 'lon', 'offense_year', 'geoid', 'date',\n",
       "       'temp_max', 'temp_min', 'daylight_duration', 'precipitation_sum',\n",
       "       'precipitation_hours'],\n",
       "      dtype='object')"
      ]
     },
     "execution_count": 2,
     "metadata": {},
     "output_type": "execute_result"
    }
   ],
   "source": [
    "crime.columns"
   ]
  },
  {
   "cell_type": "code",
   "execution_count": 3,
   "id": "3af19627-bb6d-412c-894c-2ed8f430c877",
   "metadata": {},
   "outputs": [],
   "source": [
    "cols = ['census_tract_geoid', 'census_block_group', 'census_bg_geoid', 'census_block_geoid', 'std_parcelpin',\n",
    "        'address_public', 'object_id', 'primary_key', 'case_number', 'reported_date', 'dow_name', 'statute', \n",
    "        'stat_desc', 'date', 'days_ago', 'geoid', 'city',\n",
    "        'zip', 'ward', 'primary_key', 'district', 'time_group', 'census_tract', 'time_block']\n",
    "\n",
    "crime = crime.drop(columns=cols)"
   ]
  },
  {
   "cell_type": "code",
   "execution_count": 4,
   "id": "10ab2f4a-24fd-47ec-927f-d78ecbb210ce",
   "metadata": {},
   "outputs": [
    {
     "name": "stdout",
     "output_type": "stream",
     "text": [
      "'census_block' has 0 'Not Located' entries\n"
     ]
    }
   ],
   "source": [
    "cols = ['census_block']\n",
    "\n",
    "for col in cols:\n",
    "    count_not_located = (crime[col] == 'Not Located').sum()\n",
    "    print(f\"'{col}' has {count_not_located} 'Not Located' entries\")"
   ]
  },
  {
   "cell_type": "code",
   "execution_count": 5,
   "id": "2ec08f82-29b6-450d-8412-37151a11256d",
   "metadata": {},
   "outputs": [
    {
     "name": "stdout",
     "output_type": "stream",
     "text": [
      "Initial discrepancies: 128136\n",
      "Final discrepancies: 0\n"
     ]
    }
   ],
   "source": [
    "def add_extracted_date_columns(crime):\n",
    "    crime['offense_date'] = pd.to_datetime(crime['offense_date'], errors='coerce')\n",
    "    crime.dropna(subset=['offense_date'], inplace=True)  # Drop rows where 'offense_date' is NaT\n",
    "    crime['extracted_month'] = crime['offense_date'].dt.month\n",
    "    crime['extracted_day'] = crime['offense_date'].dt.day\n",
    "    return crime\n",
    "\n",
    "def date_discrepancy(crime, month, day):\n",
    "    inconsistent_records = crime[(crime[month] != crime['extracted_month']) | (crime[day] != crime['extracted_day'])]\n",
    "    return inconsistent_records.shape[0]\n",
    "\n",
    "crime = add_extracted_date_columns(crime)\n",
    "\n",
    "initial_discrepancies = date_discrepancy(crime, 'offense_month', 'offense_day')\n",
    "print(f\"Initial discrepancies: {initial_discrepancies}\")\n",
    "\n",
    "crime = crime.drop(columns=['offense_month', 'offense_day'])\n",
    "\n",
    "final_discrepancies = date_discrepancy(crime, 'extracted_month', 'extracted_day')\n",
    "print(f\"Final discrepancies: {final_discrepancies}\")"
   ]
  },
  {
   "cell_type": "code",
   "execution_count": 6,
   "id": "3024b583-5531-40b3-a6b2-f5dc04b3539a",
   "metadata": {},
   "outputs": [],
   "source": [
    "# Only use entries from years between 2018-2022 (Census data is for those years)\n",
    "# Years before do not have enough values\n",
    "\n",
    "#crime = crime[(crime['offense_year'] > 2017) & (crime['offense_year'] < 2023)]\n",
    "#crime.shape[0]"
   ]
  },
  {
   "cell_type": "code",
   "execution_count": 7,
   "id": "9ee6f21a-dc2f-4a6e-9b6b-169445c7e42d",
   "metadata": {},
   "outputs": [
    {
     "data": {
      "text/html": [
       "<div>\n",
       "<style scoped>\n",
       "    .dataframe tbody tr th:only-of-type {\n",
       "        vertical-align: middle;\n",
       "    }\n",
       "\n",
       "    .dataframe tbody tr th {\n",
       "        vertical-align: top;\n",
       "    }\n",
       "\n",
       "    .dataframe thead th {\n",
       "        text-align: right;\n",
       "    }\n",
       "</style>\n",
       "<table border=\"1\" class=\"dataframe\">\n",
       "  <thead>\n",
       "    <tr style=\"text-align: right;\">\n",
       "      <th></th>\n",
       "      <th>ucr_desc</th>\n",
       "      <th>dow</th>\n",
       "      <th>hour_of_day</th>\n",
       "      <th>offense_date</th>\n",
       "      <th>census_block</th>\n",
       "      <th>lat</th>\n",
       "      <th>lon</th>\n",
       "      <th>offense_year</th>\n",
       "      <th>temp_max</th>\n",
       "      <th>temp_min</th>\n",
       "      <th>daylight_duration</th>\n",
       "      <th>precipitation_sum</th>\n",
       "      <th>precipitation_hours</th>\n",
       "      <th>extracted_month</th>\n",
       "      <th>extracted_day</th>\n",
       "    </tr>\n",
       "  </thead>\n",
       "  <tbody>\n",
       "  </tbody>\n",
       "</table>\n",
       "</div>"
      ],
      "text/plain": [
       "Empty DataFrame\n",
       "Columns: [ucr_desc, dow, hour_of_day, offense_date, census_block, lat, lon, offense_year, temp_max, temp_min, daylight_duration, precipitation_sum, precipitation_hours, extracted_month, extracted_day]\n",
       "Index: []"
      ]
     },
     "execution_count": 7,
     "metadata": {},
     "output_type": "execute_result"
    }
   ],
   "source": [
    "# Look at rows with null entries\n",
    "\n",
    "rows_with_null = crime[crime.isnull().any(axis=1)]\n",
    "rows_with_null"
   ]
  },
  {
   "cell_type": "code",
   "execution_count": 8,
   "id": "2f62a693-052b-4e0f-9469-3fc3a0034c36",
   "metadata": {},
   "outputs": [
    {
     "name": "stdout",
     "output_type": "stream",
     "text": [
      "Total exact duplicates found: 48265\n"
     ]
    }
   ],
   "source": [
    "duplicate_rows = crime[crime.duplicated(keep=False)]\n",
    "print(f\"Total exact duplicates found: {duplicate_rows.shape[0]}\")"
   ]
  },
  {
   "cell_type": "code",
   "execution_count": 9,
   "id": "cdd9ded7-e2ab-4a72-bf10-ef81a3378b70",
   "metadata": {},
   "outputs": [
    {
     "name": "stdout",
     "output_type": "stream",
     "text": [
      "Total exact duplicates found: 0\n"
     ]
    }
   ],
   "source": [
    "# Drop exact duplicates and keep only the first occurrence\n",
    "crime = crime.drop_duplicates()\n",
    "duplicate_rows = crime[crime.duplicated(keep=False)]\n",
    "print(f\"Total exact duplicates found: {duplicate_rows.shape[0]}\")"
   ]
  },
  {
   "cell_type": "code",
   "execution_count": 10,
   "id": "a14d883d",
   "metadata": {
    "scrolled": true
   },
   "outputs": [
    {
     "name": "stdout",
     "output_type": "stream",
     "text": [
      "<class 'pandas.core.frame.DataFrame'>\n",
      "Index: 498581 entries, 0 to 524389\n",
      "Data columns (total 15 columns):\n",
      " #   Column               Non-Null Count   Dtype         \n",
      "---  ------               --------------   -----         \n",
      " 0   ucr_desc             498581 non-null  object        \n",
      " 1   dow                  498581 non-null  int64         \n",
      " 2   hour_of_day          498581 non-null  int64         \n",
      " 3   offense_date         498581 non-null  datetime64[ns]\n",
      " 4   census_block         498581 non-null  object        \n",
      " 5   lat                  498581 non-null  float64       \n",
      " 6   lon                  498581 non-null  float64       \n",
      " 7   offense_year         498581 non-null  int64         \n",
      " 8   temp_max             498581 non-null  float64       \n",
      " 9   temp_min             498581 non-null  float64       \n",
      " 10  daylight_duration    498581 non-null  float64       \n",
      " 11  precipitation_sum    498581 non-null  float64       \n",
      " 12  precipitation_hours  498581 non-null  float64       \n",
      " 13  extracted_month      498581 non-null  int32         \n",
      " 14  extracted_day        498581 non-null  int32         \n",
      "dtypes: datetime64[ns](1), float64(7), int32(2), int64(3), object(2)\n",
      "memory usage: 57.1+ MB\n"
     ]
    }
   ],
   "source": [
    "# We now have a \"complete\" dataset\n",
    "\n",
    "crime.info()"
   ]
  },
  {
   "cell_type": "code",
   "execution_count": 11,
   "id": "33e2cf37-debf-464c-b93d-8af8bc79dc16",
   "metadata": {},
   "outputs": [],
   "source": [
    "import numpy as np\n",
    "\n",
    "# Adjust the dow to start from 0 by subtracting the minimum value (1)\n",
    "crime['dow_sin'] = np.sin(2 * np.pi * (crime['dow'] - 1) / 7)\n",
    "crime['dow_cos'] = np.cos(2 * np.pi * (crime['dow'] - 1) / 7)\n",
    "\n",
    "# Adjust the extracted_day to start from 0 by subtracting the minimum value (1)\n",
    "crime['day_sin'] = np.sin(2 * np.pi * (crime['extracted_day'] - 1) / 31)\n",
    "crime['day_cos'] = np.cos(2 * np.pi * (crime['extracted_day'] - 1) / 31)\n",
    "\n",
    "# Adjust the extracted_month to start from 0 by subtracting the minimum value (1)\n",
    "crime['month_sin'] = np.sin(2 * np.pi * (crime['extracted_month'] - 1) / 12)\n",
    "crime['month_cos'] = np.cos(2 * np.pi * (crime['extracted_month'] - 1) / 12)\n",
    "\n",
    "crime['hour_sin'] = np.sin(2 * np.pi * crime['hour_of_day'] / 24)\n",
    "crime['hour_cos'] = np.cos(2 * np.pi * crime['hour_of_day'] / 24)\n",
    "\n",
    "crime = crime.drop(columns=['dow', 'hour_of_day', 'extracted_month', 'extracted_day'])"
   ]
  },
  {
   "cell_type": "code",
   "execution_count": 12,
   "id": "3ff9a3f1-926e-47ab-8316-cab4152b6600",
   "metadata": {
    "tags": []
   },
   "outputs": [
    {
     "name": "stdout",
     "output_type": "stream",
     "text": [
      "ucr_desc: {'1C': 0, 'All Other Offenses': 1, 'Arson': 2, 'Assault': 3, 'Burglary': 4, 'Disorderly Conduct': 5, 'Driving Under The Influence': 6, 'Drug Abuse Violations': 7, 'Drunkenness': 8, 'Embezzlement': 9, 'Fel Assault': 10, 'Forgery & Counterfeiting': 11, 'Fraud': 12, 'GTMV': 13, 'Gambling': 14, 'Homicide': 15, 'Liquor Laws': 16, 'Offense Against Family/Children': 17, 'Property Damaged': 18, 'Prostitution': 19, 'Rape': 20, 'Robbery': 21, 'Sex Offenses': 22, 'Stolen Property': 23, 'Theft': 24, 'Traffic Violations': 25, 'Vandalism': 26, 'Weapons': 27}\n",
      "\n",
      "\n",
      "offense_year: {2018: 0, 2019: 1, 2020: 2, 2021: 3, 2022: 4, 2023: 5, 2024: 6}\n",
      "\n",
      "\n",
      "census_block: {'Block 1000': 0, 'Block 1001': 1, 'Block 1002': 2, 'Block 1003': 3, 'Block 1004': 4, 'Block 1005': 5, 'Block 1006': 6, 'Block 1007': 7, 'Block 1008': 8, 'Block 1009': 9, 'Block 1010': 10, 'Block 1011': 11, 'Block 1012': 12, 'Block 1013': 13, 'Block 1014': 14, 'Block 1015': 15, 'Block 1016': 16, 'Block 1017': 17, 'Block 1018': 18, 'Block 1019': 19, 'Block 1020': 20, 'Block 1021': 21, 'Block 1022': 22, 'Block 1023': 23, 'Block 1024': 24, 'Block 1025': 25, 'Block 1026': 26, 'Block 1027': 27, 'Block 1028': 28, 'Block 1029': 29, 'Block 1030': 30, 'Block 1031': 31, 'Block 1032': 32, 'Block 1033': 33, 'Block 1034': 34, 'Block 1035': 35, 'Block 1036': 36, 'Block 1037': 37, 'Block 1038': 38, 'Block 1039': 39, 'Block 1040': 40, 'Block 1041': 41, 'Block 1042': 42, 'Block 1043': 43, 'Block 1044': 44, 'Block 1045': 45, 'Block 1046': 46, 'Block 1047': 47, 'Block 1048': 48, 'Block 1049': 49, 'Block 1050': 50, 'Block 1051': 51, 'Block 1052': 52, 'Block 1053': 53, 'Block 1054': 54, 'Block 1055': 55, 'Block 1056': 56, 'Block 1058': 57, 'Block 1059': 58, 'Block 1060': 59, 'Block 1062': 60, 'Block 1065': 61, 'Block 1066': 62, 'Block 1067': 63, 'Block 1068': 64, 'Block 1069': 65, 'Block 1070': 66, 'Block 1071': 67, 'Block 1072': 68, 'Block 1073': 69, 'Block 2000': 70, 'Block 2001': 71, 'Block 2002': 72, 'Block 2003': 73, 'Block 2004': 74, 'Block 2005': 75, 'Block 2006': 76, 'Block 2007': 77, 'Block 2008': 78, 'Block 2009': 79, 'Block 2010': 80, 'Block 2011': 81, 'Block 2012': 82, 'Block 2013': 83, 'Block 2014': 84, 'Block 2015': 85, 'Block 2016': 86, 'Block 2017': 87, 'Block 2018': 88, 'Block 2019': 89, 'Block 2020': 90, 'Block 2021': 91, 'Block 2022': 92, 'Block 2023': 93, 'Block 2024': 94, 'Block 2025': 95, 'Block 2026': 96, 'Block 2027': 97, 'Block 2028': 98, 'Block 2029': 99, 'Block 2030': 100, 'Block 2031': 101, 'Block 2032': 102, 'Block 2033': 103, 'Block 2034': 104, 'Block 2035': 105, 'Block 2036': 106, 'Block 2037': 107, 'Block 2038': 108, 'Block 2039': 109, 'Block 2040': 110, 'Block 2041': 111, 'Block 2042': 112, 'Block 2043': 113, 'Block 2044': 114, 'Block 2045': 115, 'Block 2046': 116, 'Block 2047': 117, 'Block 2048': 118, 'Block 2049': 119, 'Block 2050': 120, 'Block 2051': 121, 'Block 2053': 122, 'Block 2054': 123, 'Block 2055': 124, 'Block 2056': 125, 'Block 2058': 126, 'Block 2061': 127, 'Block 2062': 128, 'Block 2063': 129, 'Block 3000': 130, 'Block 3001': 131, 'Block 3002': 132, 'Block 3003': 133, 'Block 3004': 134, 'Block 3005': 135, 'Block 3006': 136, 'Block 3007': 137, 'Block 3008': 138, 'Block 3009': 139, 'Block 3010': 140, 'Block 3011': 141, 'Block 3012': 142, 'Block 3013': 143, 'Block 3014': 144, 'Block 3015': 145, 'Block 3016': 146, 'Block 3017': 147, 'Block 3018': 148, 'Block 3019': 149, 'Block 3020': 150, 'Block 3021': 151, 'Block 3022': 152, 'Block 3023': 153, 'Block 3024': 154, 'Block 3025': 155, 'Block 3026': 156, 'Block 3027': 157, 'Block 3028': 158, 'Block 3029': 159, 'Block 3030': 160, 'Block 3031': 161, 'Block 3032': 162, 'Block 3033': 163, 'Block 3034': 164, 'Block 3035': 165, 'Block 3036': 166, 'Block 3037': 167, 'Block 3038': 168, 'Block 3039': 169, 'Block 3040': 170, 'Block 3041': 171, 'Block 3042': 172, 'Block 3043': 173, 'Block 3044': 174, 'Block 3045': 175, 'Block 3046': 176, 'Block 3047': 177, 'Block 3048': 178, 'Block 3049': 179, 'Block 3050': 180, 'Block 3051': 181, 'Block 3052': 182, 'Block 3053': 183, 'Block 3054': 184, 'Block 3055': 185, 'Block 3056': 186, 'Block 3057': 187, 'Block 3058': 188, 'Block 3059': 189, 'Block 4000': 190, 'Block 4001': 191, 'Block 4002': 192, 'Block 4003': 193, 'Block 4004': 194, 'Block 4005': 195, 'Block 4006': 196, 'Block 4007': 197, 'Block 4008': 198, 'Block 4009': 199, 'Block 4010': 200, 'Block 4011': 201, 'Block 4012': 202, 'Block 4013': 203, 'Block 4014': 204, 'Block 4015': 205, 'Block 4016': 206, 'Block 4017': 207, 'Block 4018': 208, 'Block 4019': 209, 'Block 4020': 210, 'Block 4021': 211, 'Block 4022': 212, 'Block 4023': 213, 'Block 4024': 214, 'Block 4025': 215, 'Block 4026': 216, 'Block 5000': 217, 'Block 5001': 218, 'Block 5002': 219, 'Block 5003': 220, 'Block 5004': 221, 'Block 5005': 222, 'Block 5006': 223, 'Block 5007': 224, 'Block 5008': 225, 'Block 5009': 226, 'Block 5010': 227, 'Block 5011': 228, 'Block 5012': 229, 'Block 5013': 230, 'Block 5014': 231, 'Block 5015': 232, 'Block 5017': 233, 'Block 5018': 234, 'Block 5019': 235, 'Block 6000': 236, 'Block 6001': 237, 'Block 6002': 238, 'Block 6003': 239, 'Block 6004': 240, 'Block 6005': 241, 'Block 6006': 242}\n",
      "\n",
      "\n"
     ]
    }
   ],
   "source": [
    "from sklearn.preprocessing import LabelEncoder\n",
    "\n",
    "mappings = {}\n",
    "\n",
    "cols = ['ucr_desc', 'offense_year', 'census_block']\n",
    "for col in cols:\n",
    "    le = LabelEncoder()\n",
    "    crime[col + '_numeric'] = le.fit_transform(crime[col])\n",
    "    \n",
    "    mappings[col] = dict(zip(le.classes_, le.transform(le.classes_)))\n",
    "    \n",
    "for col, mapping in mappings.items():\n",
    "    print(f\"{col}: {mapping}\")\n",
    "    print(\"\\n\")"
   ]
  },
  {
   "cell_type": "code",
   "execution_count": 14,
   "id": "6c96d10d-2c6d-4424-940e-9ba751ee8b27",
   "metadata": {},
   "outputs": [],
   "source": [
    "# Drop last remaining unneeded columns\n",
    "# Only remaining column that may be unnessary is OffenseDate\n",
    "# It is useful to have a column in datetime format\n",
    "\n",
    "cols = ['ucr_desc', 'offense_year', 'census_block']\n",
    "\n",
    "crime = crime.drop(columns=cols)"
   ]
  },
  {
   "cell_type": "code",
   "execution_count": 15,
   "id": "3e91835b-57de-48ac-8f5c-391f277b8a7b",
   "metadata": {},
   "outputs": [],
   "source": [
    "# Calculate the week of the year from 'offense_date'\n",
    "crime['week_of_year'] = crime['offense_date'].dt.isocalendar().week\n",
    "\n",
    "# Create interaction features\n",
    "crime['week_precipitation_interaction'] = crime['week_of_year'] * crime['precipitation_sum']\n",
    "crime['daylight_precipitation_interaction'] = crime['daylight_duration'] * crime['precipitation_sum']\n",
    "\n",
    "crime['block_week_interaction'] = crime['census_block_numeric'] * crime['week_of_year']\n",
    "crime['block_temp_max_interaction'] = crime['census_block_numeric'] * crime['temp_max']\n",
    "\n",
    "crime['temp_range'] = crime['temp_max'] - crime['temp_min']\n",
    "crime['temp_range_precipitation_interaction'] = crime['temp_range'] * crime['precipitation_sum']\n",
    "\n",
    "crime['precipitation_sum_hours_interaction'] = crime['precipitation_sum'] * crime['precipitation_hours']\n",
    "\n",
    "from pandas.tseries.holiday import USFederalHolidayCalendar\n",
    "\n",
    "cal = USFederalHolidayCalendar()\n",
    "holidays = cal.holidays(start=crime['offense_date'].min(), end=crime['offense_date'].max())\n",
    "crime['is_holiday'] = crime['offense_date'].dt.normalize().isin(holidays).astype(int)"
   ]
  },
  {
   "cell_type": "code",
   "execution_count": 16,
   "id": "4d06e96e-f409-45ba-bf4b-dc55704787e2",
   "metadata": {},
   "outputs": [
    {
     "data": {
      "text/html": [
       "<div>\n",
       "<style scoped>\n",
       "    .dataframe tbody tr th:only-of-type {\n",
       "        vertical-align: middle;\n",
       "    }\n",
       "\n",
       "    .dataframe tbody tr th {\n",
       "        vertical-align: top;\n",
       "    }\n",
       "\n",
       "    .dataframe thead th {\n",
       "        text-align: right;\n",
       "    }\n",
       "</style>\n",
       "<table border=\"1\" class=\"dataframe\">\n",
       "  <thead>\n",
       "    <tr style=\"text-align: right;\">\n",
       "      <th></th>\n",
       "      <th>offense_date</th>\n",
       "      <th>lat</th>\n",
       "      <th>lon</th>\n",
       "      <th>temp_max</th>\n",
       "      <th>temp_min</th>\n",
       "      <th>daylight_duration</th>\n",
       "      <th>precipitation_sum</th>\n",
       "      <th>precipitation_hours</th>\n",
       "      <th>dow_sin</th>\n",
       "      <th>dow_cos</th>\n",
       "      <th>...</th>\n",
       "      <th>census_block_numeric</th>\n",
       "      <th>week_of_year</th>\n",
       "      <th>week_precipitation_interaction</th>\n",
       "      <th>daylight_precipitation_interaction</th>\n",
       "      <th>block_week_interaction</th>\n",
       "      <th>block_temp_max_interaction</th>\n",
       "      <th>temp_range</th>\n",
       "      <th>temp_range_precipitation_interaction</th>\n",
       "      <th>precipitation_sum_hours_interaction</th>\n",
       "      <th>is_holiday</th>\n",
       "    </tr>\n",
       "  </thead>\n",
       "  <tbody>\n",
       "  </tbody>\n",
       "</table>\n",
       "<p>0 rows × 28 columns</p>\n",
       "</div>"
      ],
      "text/plain": [
       "Empty DataFrame\n",
       "Columns: [offense_date, lat, lon, temp_max, temp_min, daylight_duration, precipitation_sum, precipitation_hours, dow_sin, dow_cos, day_sin, day_cos, month_sin, month_cos, hour_sin, hour_cos, ucr_desc_numeric, offense_year_numeric, census_block_numeric, week_of_year, week_precipitation_interaction, daylight_precipitation_interaction, block_week_interaction, block_temp_max_interaction, temp_range, temp_range_precipitation_interaction, precipitation_sum_hours_interaction, is_holiday]\n",
       "Index: []\n",
       "\n",
       "[0 rows x 28 columns]"
      ]
     },
     "execution_count": 16,
     "metadata": {},
     "output_type": "execute_result"
    }
   ],
   "source": [
    "# Look at rows with null entries\n",
    "\n",
    "rows_with_null = crime[crime.isnull().any(axis=1)]\n",
    "rows_with_null"
   ]
  },
  {
   "cell_type": "code",
   "execution_count": 17,
   "id": "0ffa488b-ac67-499f-8e80-0b15488581ce",
   "metadata": {},
   "outputs": [
    {
     "name": "stdout",
     "output_type": "stream",
     "text": [
      "Total exact duplicates found: 0\n"
     ]
    }
   ],
   "source": [
    "duplicate_rows = crime[crime.duplicated(keep=False)]\n",
    "print(f\"Total exact duplicates found: {duplicate_rows.shape[0]}\")"
   ]
  },
  {
   "cell_type": "code",
   "execution_count": 18,
   "id": "fe75fc14-9083-4d41-9480-89dc72438b28",
   "metadata": {},
   "outputs": [
    {
     "data": {
      "text/plain": [
       "Index(['offense_date', 'lat', 'lon', 'temp_max', 'temp_min',\n",
       "       'daylight_duration', 'precipitation_sum', 'precipitation_hours',\n",
       "       'dow_sin', 'dow_cos', 'day_sin', 'day_cos', 'month_sin', 'month_cos',\n",
       "       'hour_sin', 'hour_cos', 'ucr_desc_numeric', 'offense_year_numeric',\n",
       "       'census_block_numeric', 'week_of_year',\n",
       "       'week_precipitation_interaction', 'daylight_precipitation_interaction',\n",
       "       'block_week_interaction', 'block_temp_max_interaction', 'temp_range',\n",
       "       'temp_range_precipitation_interaction',\n",
       "       'precipitation_sum_hours_interaction', 'is_holiday'],\n",
       "      dtype='object')"
      ]
     },
     "execution_count": 18,
     "metadata": {},
     "output_type": "execute_result"
    }
   ],
   "source": [
    "crime.columns"
   ]
  },
  {
   "cell_type": "code",
   "execution_count": 19,
   "id": "ca7e7b1b-925a-4a8b-b084-088741a61745",
   "metadata": {},
   "outputs": [],
   "source": [
    "# Important to note that we do not perform any feature scaling here\n",
    "# This is because random forests are scale-invariant\n",
    "\n",
    "crime.to_csv(\"crime_weather_preprocessed\", index=False)"
   ]
  },
  {
   "cell_type": "code",
   "execution_count": null,
   "id": "b56b6292-64c0-41e5-91f2-f1b62913dea5",
   "metadata": {},
   "outputs": [],
   "source": []
  }
 ],
 "metadata": {
  "kernelspec": {
   "display_name": "Python 3 (ipykernel)",
   "language": "python",
   "name": "python3"
  },
  "language_info": {
   "codemirror_mode": {
    "name": "ipython",
    "version": 3
   },
   "file_extension": ".py",
   "mimetype": "text/x-python",
   "name": "python",
   "nbconvert_exporter": "python",
   "pygments_lexer": "ipython3",
   "version": "3.9.19"
  }
 },
 "nbformat": 4,
 "nbformat_minor": 5
}
