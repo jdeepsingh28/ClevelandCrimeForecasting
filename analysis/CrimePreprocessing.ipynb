{
 "cells": [
  {
   "cell_type": "code",
   "execution_count": 1,
   "id": "8be1b349-0894-4ffd-a996-ce56a4716333",
   "metadata": {},
   "outputs": [
    {
     "name": "stdout",
     "output_type": "stream",
     "text": [
      "Requirement already satisfied: numpy in c:\\users\\singh\\anaconda3\\lib\\site-packages (1.23.5)\n",
      "Requirement already satisfied: pandas in c:\\users\\singh\\anaconda3\\lib\\site-packages (2.2.3)\n",
      "Requirement already satisfied: python-dateutil>=2.8.2 in c:\\users\\singh\\anaconda3\\lib\\site-packages (from pandas) (2.9.0.post0)\n",
      "Requirement already satisfied: pytz>=2020.1 in c:\\users\\singh\\anaconda3\\lib\\site-packages (from pandas) (2024.1)\n",
      "Requirement already satisfied: tzdata>=2022.7 in c:\\users\\singh\\anaconda3\\lib\\site-packages (from pandas) (2024.2)\n",
      "Requirement already satisfied: six>=1.5 in c:\\users\\singh\\anaconda3\\lib\\site-packages (from python-dateutil>=2.8.2->pandas) (1.16.0)\n"
     ]
    }
   ],
   "source": [
    "!pip install numpy pandas"
   ]
  },
  {
   "cell_type": "code",
   "execution_count": 140,
   "id": "165f8983",
   "metadata": {},
   "outputs": [
    {
     "name": "stderr",
     "output_type": "stream",
     "text": [
      "C:\\Users\\singh\\AppData\\Local\\Temp\\ipykernel_35856\\3148661739.py:3: DtypeWarning: Columns (20) have mixed types. Specify dtype option on import or set low_memory=False.\n",
      "  crime = pd.read_csv(r\"\\Users\\singh\\Downloads\\crime_with_weather.csv\")\n"
     ]
    }
   ],
   "source": [
    "import pandas as pd\n",
    "\n",
    "crime = pd.read_csv(r\"\\Users\\singh\\Downloads\\crime_with_weather.csv\")"
   ]
  },
  {
   "cell_type": "code",
   "execution_count": 141,
   "id": "69e5f4cd-27ee-465d-b6ff-6cc12631df7a",
   "metadata": {},
   "outputs": [
    {
     "data": {
      "text/plain": [
       "Index(['object_id', 'primary_key', 'case_number', 'district', 'ucr_desc',\n",
       "       'time_group', 'reported_date', 'offense_month', 'offense_day',\n",
       "       'time_block', 'dow_name', 'dow', 'hour_of_day', 'days_ago',\n",
       "       'offense_date', 'statute', 'city', 'zip', 'stat_desc', 'address_public',\n",
       "       'std_parcelpin', 'ward', 'census_tract', 'census_tract_geoid',\n",
       "       'census_block_group', 'census_bg_geoid', 'census_block',\n",
       "       'census_block_geoid', 'lat', 'lon', 'offense_year', 'geoid', 'date',\n",
       "       'temp_max', 'temp_min', 'daylight_duration', 'precipitation_sum',\n",
       "       'precipitation_hours'],\n",
       "      dtype='object')"
      ]
     },
     "execution_count": 141,
     "metadata": {},
     "output_type": "execute_result"
    }
   ],
   "source": [
    "crime.columns"
   ]
  },
  {
   "cell_type": "code",
   "execution_count": 142,
   "id": "3af19627-bb6d-412c-894c-2ed8f430c877",
   "metadata": {},
   "outputs": [],
   "source": [
    "cols = ['census_tract_geoid', 'census_block_group', 'census_bg_geoid', 'census_block_geoid', 'lat', 'lon', 'std_parcelpin', 'city',\n",
    "        'zip', 'address_public', 'ward', 'object_id', 'primary_key', 'case_number', 'district', 'reported_date', 'dow_name', 'statute', \n",
    "        'stat_desc', 'time_group', 'date', 'days_ago', 'geoid']\n",
    "\n",
    "crime = crime.drop(columns=cols)"
   ]
  },
  {
   "cell_type": "code",
   "execution_count": 143,
   "id": "10ab2f4a-24fd-47ec-927f-d78ecbb210ce",
   "metadata": {},
   "outputs": [
    {
     "name": "stdout",
     "output_type": "stream",
     "text": [
      "'census_tract' has 0 'Not Located' entries\n",
      "'census_block' has 0 'Not Located' entries\n"
     ]
    }
   ],
   "source": [
    "cols = ['census_tract', 'census_block']\n",
    "\n",
    "# Loop through each column and count 'Not Located' occurrences\n",
    "for col in cols:\n",
    "    count_not_located = (crime[col] == 'Not Located').sum()\n",
    "    print(f\"'{col}' has {count_not_located} 'Not Located' entries\")"
   ]
  },
  {
   "cell_type": "code",
   "execution_count": 144,
   "id": "2ec08f82-29b6-450d-8412-37151a11256d",
   "metadata": {},
   "outputs": [
    {
     "name": "stdout",
     "output_type": "stream",
     "text": [
      "Initial discrepancies: 128136\n",
      "Final discrepancies: 0\n"
     ]
    }
   ],
   "source": [
    "# Function to create extracted month and day columns\n",
    "def add_extracted_date_columns(crime):\n",
    "    crime['offense_date'] = pd.to_datetime(crime['offense_date'], errors='coerce')\n",
    "    crime.dropna(subset=['offense_date'], inplace=True)  # Drop rows where 'offense_date' is NaT\n",
    "    crime['extracted_month'] = crime['offense_date'].dt.month\n",
    "    crime['extracted_day'] = crime['offense_date'].dt.day\n",
    "    return crime\n",
    "\n",
    "# Function to check for discrepancies\n",
    "def date_discrepancy(crime, month, day):\n",
    "    inconsistent_records = crime[(crime[month] != crime['extracted_month']) | (crime[day] != crime['extracted_day'])]\n",
    "    return inconsistent_records.shape[0]\n",
    "\n",
    "# Add extracted month and day columns first\n",
    "crime = add_extracted_date_columns(crime)\n",
    "\n",
    "# Checking discrepancies before dropping 'offense_month' and 'offense_day'\n",
    "initial_discrepancies = date_discrepancy(crime, 'offense_month', 'offense_day')\n",
    "print(f\"Initial discrepancies: {initial_discrepancies}\")\n",
    "\n",
    "# Dropping the original columns now\n",
    "crime = crime.drop(columns=['offense_month', 'offense_day'])\n",
    "\n",
    "# Perform a final discrepancy check to confirm consistency (should be zero)\n",
    "final_discrepancies = date_discrepancy(crime, 'extracted_month', 'extracted_day')\n",
    "print(f\"Final discrepancies: {final_discrepancies}\")"
   ]
  },
  {
   "cell_type": "code",
   "execution_count": 146,
   "id": "3024b583-5531-40b3-a6b2-f5dc04b3539a",
   "metadata": {},
   "outputs": [
    {
     "data": {
      "text/plain": [
       "377010"
      ]
     },
     "execution_count": 146,
     "metadata": {},
     "output_type": "execute_result"
    }
   ],
   "source": [
    "# Only use entries from years between 2018-2022 (Census data is for those years)\n",
    "# Years before do not have enough values\n",
    "\n",
    "crime = crime[(crime['offense_year'] > 2017) & (crime['offense_year'] < 2023)]\n",
    "crime.shape[0]"
   ]
  },
  {
   "cell_type": "code",
   "execution_count": 147,
   "id": "9ee6f21a-dc2f-4a6e-9b6b-169445c7e42d",
   "metadata": {},
   "outputs": [
    {
     "data": {
      "text/html": [
       "<div>\n",
       "<style scoped>\n",
       "    .dataframe tbody tr th:only-of-type {\n",
       "        vertical-align: middle;\n",
       "    }\n",
       "\n",
       "    .dataframe tbody tr th {\n",
       "        vertical-align: top;\n",
       "    }\n",
       "\n",
       "    .dataframe thead th {\n",
       "        text-align: right;\n",
       "    }\n",
       "</style>\n",
       "<table border=\"1\" class=\"dataframe\">\n",
       "  <thead>\n",
       "    <tr style=\"text-align: right;\">\n",
       "      <th></th>\n",
       "      <th>ucr_desc</th>\n",
       "      <th>time_block</th>\n",
       "      <th>dow</th>\n",
       "      <th>hour_of_day</th>\n",
       "      <th>offense_date</th>\n",
       "      <th>census_tract</th>\n",
       "      <th>census_block</th>\n",
       "      <th>offense_year</th>\n",
       "      <th>temp_max</th>\n",
       "      <th>temp_min</th>\n",
       "      <th>daylight_duration</th>\n",
       "      <th>precipitation_sum</th>\n",
       "      <th>precipitation_hours</th>\n",
       "      <th>extracted_month</th>\n",
       "      <th>extracted_day</th>\n",
       "    </tr>\n",
       "  </thead>\n",
       "  <tbody>\n",
       "  </tbody>\n",
       "</table>\n",
       "</div>"
      ],
      "text/plain": [
       "Empty DataFrame\n",
       "Columns: [ucr_desc, time_block, dow, hour_of_day, offense_date, census_tract, census_block, offense_year, temp_max, temp_min, daylight_duration, precipitation_sum, precipitation_hours, extracted_month, extracted_day]\n",
       "Index: []"
      ]
     },
     "execution_count": 147,
     "metadata": {},
     "output_type": "execute_result"
    }
   ],
   "source": [
    "# Look at rows with null entries\n",
    "\n",
    "rows_with_null = crime[crime.isnull().any(axis=1)]\n",
    "rows_with_null"
   ]
  },
  {
   "cell_type": "code",
   "execution_count": 148,
   "id": "2f62a693-052b-4e0f-9469-3fc3a0034c36",
   "metadata": {},
   "outputs": [
    {
     "name": "stdout",
     "output_type": "stream",
     "text": [
      "Total exact duplicates found: 31898\n"
     ]
    }
   ],
   "source": [
    "duplicate_rows = crime[crime.duplicated(keep=False)]\n",
    "print(f\"Total exact duplicates found: {duplicate_rows.shape[0]}\")"
   ]
  },
  {
   "cell_type": "code",
   "execution_count": null,
   "id": "3ff606da-5a54-4f78-a93b-cc583d8f488e",
   "metadata": {
    "tags": []
   },
   "outputs": [],
   "source": [
    "# Group duplicates and check for value differences across columns\n",
    "duplicate_groups = duplicate_rows.groupby('offense_date')\n",
    "for name, group in duplicate_groups:\n",
    "    print(f\"\\nGroup: {name}\")\n",
    "    display(group)"
   ]
  },
  {
   "cell_type": "code",
   "execution_count": 149,
   "id": "cdd9ded7-e2ab-4a72-bf10-ef81a3378b70",
   "metadata": {},
   "outputs": [
    {
     "name": "stdout",
     "output_type": "stream",
     "text": [
      "Total exact duplicates found: 0\n"
     ]
    }
   ],
   "source": [
    "# Drop exact duplicates and keep only the first occurrence\n",
    "crime = crime.drop_duplicates()\n",
    "duplicate_rows = crime[crime.duplicated(keep=False)]\n",
    "print(f\"Total exact duplicates found: {duplicate_rows.shape[0]}\")"
   ]
  },
  {
   "cell_type": "code",
   "execution_count": 150,
   "id": "a14d883d",
   "metadata": {
    "scrolled": true
   },
   "outputs": [
    {
     "name": "stdout",
     "output_type": "stream",
     "text": [
      "<class 'pandas.core.frame.DataFrame'>\n",
      "Index: 360042 entries, 0 to 524389\n",
      "Data columns (total 15 columns):\n",
      " #   Column               Non-Null Count   Dtype         \n",
      "---  ------               --------------   -----         \n",
      " 0   ucr_desc             360042 non-null  object        \n",
      " 1   time_block           360042 non-null  object        \n",
      " 2   dow                  360042 non-null  int64         \n",
      " 3   hour_of_day          360042 non-null  int64         \n",
      " 4   offense_date         360042 non-null  datetime64[ns]\n",
      " 5   census_tract         360042 non-null  object        \n",
      " 6   census_block         360042 non-null  object        \n",
      " 7   offense_year         360042 non-null  int64         \n",
      " 8   temp_max             360042 non-null  float64       \n",
      " 9   temp_min             360042 non-null  float64       \n",
      " 10  daylight_duration    360042 non-null  float64       \n",
      " 11  precipitation_sum    360042 non-null  float64       \n",
      " 12  precipitation_hours  360042 non-null  float64       \n",
      " 13  extracted_month      360042 non-null  int32         \n",
      " 14  extracted_day        360042 non-null  int32         \n",
      "dtypes: datetime64[ns](1), float64(5), int32(2), int64(3), object(4)\n",
      "memory usage: 41.2+ MB\n"
     ]
    }
   ],
   "source": [
    "# We now have a \"complete\" dataset\n",
    "\n",
    "crime.info()"
   ]
  },
  {
   "cell_type": "code",
   "execution_count": 151,
   "id": "85562760-71e3-4d96-98c4-bb94ab76634b",
   "metadata": {
    "tags": []
   },
   "outputs": [
    {
     "name": "stdout",
     "output_type": "stream",
     "text": [
      "ucr_desc: {'1C': 0, 'All Other Offenses': 1, 'Arson': 2, 'Assault': 3, 'Burglary': 4, 'Disorderly Conduct': 5, 'Driving Under The Influence': 6, 'Drug Abuse Violations': 7, 'Drunkenness': 8, 'Embezzlement': 9, 'Fel Assault': 10, 'Forgery & Counterfeiting': 11, 'Fraud': 12, 'GTMV': 13, 'Gambling': 14, 'Homicide': 15, 'Liquor Laws': 16, 'Offense Against Family/Children': 17, 'Property Damaged': 18, 'Prostitution': 19, 'Rape': 20, 'Robbery': 21, 'Sex Offenses': 22, 'Stolen Property': 23, 'Theft': 24, 'Traffic Violations': 25, 'Vandalism': 26, 'Weapons': 27}\n",
      "\n",
      "\n",
      "offense_year: {2018: 0, 2019: 1, 2020: 2, 2021: 3, 2022: 4}\n",
      "\n",
      "\n",
      "time_block: {'Day': 0, 'Early Night': 1, 'Morning': 2, 'Night': 3}\n",
      "\n",
      "\n",
      "census_tract: {'Census Tract 1011.01': 0, 'Census Tract 1011.02': 1, 'Census Tract 1012.01': 2, 'Census Tract 1013': 3, 'Census Tract 1014': 4, 'Census Tract 1015.01': 5, 'Census Tract 1016.03': 6, 'Census Tract 1017': 7, 'Census Tract 1018': 8, 'Census Tract 1019.01': 9, 'Census Tract 1021.01': 10, 'Census Tract 1021.02': 11, 'Census Tract 1022': 12, 'Census Tract 1023': 13, 'Census Tract 1024.01': 14, 'Census Tract 1024.02': 15, 'Census Tract 1027': 16, 'Census Tract 1028': 17, 'Census Tract 1029': 18, 'Census Tract 1033': 19, 'Census Tract 1035': 20, 'Census Tract 1036.02': 21, 'Census Tract 1038': 22, 'Census Tract 1044': 23, 'Census Tract 1048': 24, 'Census Tract 1051': 25, 'Census Tract 1053': 26, 'Census Tract 1054': 27, 'Census Tract 1055': 28, 'Census Tract 1056.02': 29, 'Census Tract 1057': 30, 'Census Tract 1059': 31, 'Census Tract 1061': 32, 'Census Tract 1062': 33, 'Census Tract 1065': 34, 'Census Tract 1066': 35, 'Census Tract 1068': 36, 'Census Tract 1069': 37, 'Census Tract 1070': 38, 'Census Tract 1071.01': 39, 'Census Tract 1077.01': 40, 'Census Tract 1078.02': 41, 'Census Tract 1082.01': 42, 'Census Tract 1083.01': 43, 'Census Tract 1084': 44, 'Census Tract 1087.01': 45, 'Census Tract 1093.01': 46, 'Census Tract 1097.01': 47, 'Census Tract 1098.01': 48, 'Census Tract 1109.01': 49, 'Census Tract 1112.02': 50, 'Census Tract 1114.01': 51, 'Census Tract 1117': 52, 'Census Tract 1121': 53, 'Census Tract 1122': 54, 'Census Tract 1123.01': 55, 'Census Tract 1145.01': 56, 'Census Tract 1146': 57, 'Census Tract 1148': 58, 'Census Tract 1154': 59, 'Census Tract 1157': 60, 'Census Tract 1158': 61, 'Census Tract 1159': 62, 'Census Tract 1163': 63, 'Census Tract 1164': 64, 'Census Tract 1165': 65, 'Census Tract 1166': 66, 'Census Tract 1167': 67, 'Census Tract 1168': 68, 'Census Tract 1169': 69, 'Census Tract 1171.01': 70, 'Census Tract 1171.02': 71, 'Census Tract 1172.01': 72, 'Census Tract 1172.03': 73, 'Census Tract 1173': 74, 'Census Tract 1174': 75, 'Census Tract 1175': 76, 'Census Tract 1176': 77, 'Census Tract 1177': 78, 'Census Tract 1178': 79, 'Census Tract 1179': 80, 'Census Tract 1181.01': 81, 'Census Tract 1182': 82, 'Census Tract 1183.01': 83, 'Census Tract 1186.02': 84, 'Census Tract 1188': 85, 'Census Tract 1189': 86, 'Census Tract 1194.01': 87, 'Census Tract 1194.02': 88, 'Census Tract 1195.01': 89, 'Census Tract 1195.02': 90, 'Census Tract 1196': 91, 'Census Tract 1197.01': 92, 'Census Tract 1197.02': 93, 'Census Tract 1198': 94, 'Census Tract 1199': 95, 'Census Tract 1202': 96, 'Census Tract 1204': 97, 'Census Tract 1205': 98, 'Census Tract 1206': 99, 'Census Tract 1207.01': 100, 'Census Tract 1207.02': 101, 'Census Tract 1208.01': 102, 'Census Tract 1208.02': 103, 'Census Tract 1211': 104, 'Census Tract 1212': 105, 'Census Tract 1213': 106, 'Census Tract 1214.01': 107, 'Census Tract 1214.03': 108, 'Census Tract 1215': 109, 'Census Tract 1217': 110, 'Census Tract 1218': 111, 'Census Tract 1219': 112, 'Census Tract 1221': 113, 'Census Tract 1222': 114, 'Census Tract 1223': 115, 'Census Tract 1231': 116, 'Census Tract 1232': 117, 'Census Tract 1234': 118, 'Census Tract 1235.01': 119, 'Census Tract 1235.02': 120, 'Census Tract 1236.01': 121, 'Census Tract 1236.02': 122, 'Census Tract 1236.03': 123, 'Census Tract 1237': 124, 'Census Tract 1238': 125, 'Census Tract 1239': 126, 'Census Tract 1241': 127, 'Census Tract 1242.01': 128, 'Census Tract 1242.02': 129, 'Census Tract 1243': 130, 'Census Tract 1245': 131, 'Census Tract 1246': 132, 'Census Tract 1261': 133, 'Census Tract 1275.01': 134, 'Census Tract 1311.04': 135, 'Census Tract 1311.05': 136, 'Census Tract 1321': 137, 'Census Tract 1322': 138, 'Census Tract 1323.01': 139, 'Census Tract 1323.02': 140, 'Census Tract 1331.03': 141, 'Census Tract 1331.04': 142, 'Census Tract 1342.04': 143, 'Census Tract 1342.06': 144, 'Census Tract 1343': 145, 'Census Tract 1351.03': 146, 'Census Tract 1351.05': 147, 'Census Tract 1351.06': 148, 'Census Tract 1361.03': 149, 'Census Tract 1361.04': 150, 'Census Tract 1371.01': 151, 'Census Tract 1371.02': 152, 'Census Tract 1371.03': 153, 'Census Tract 1381.05': 154, 'Census Tract 1381.06': 155, 'Census Tract 1381.07': 156, 'Census Tract 1381.09': 157, 'Census Tract 1381.10': 158, 'Census Tract 1401': 159, 'Census Tract 1403.01': 160, 'Census Tract 1403.02': 161, 'Census Tract 1404': 162, 'Census Tract 1405': 163, 'Census Tract 1407.01': 164, 'Census Tract 1408': 165, 'Census Tract 1409': 166, 'Census Tract 1410': 167, 'Census Tract 1411': 168, 'Census Tract 1412': 169, 'Census Tract 1413': 170, 'Census Tract 1415': 171, 'Census Tract 1501': 172, 'Census Tract 1512': 173, 'Census Tract 1515': 174, 'Census Tract 1516': 175, 'Census Tract 1517': 176, 'Census Tract 1518': 177, 'Census Tract 1521.01': 178, 'Census Tract 1521.02': 179, 'Census Tract 1522.01': 180, 'Census Tract 1522.02': 181, 'Census Tract 1523.02': 182, 'Census Tract 1523.03': 183, 'Census Tract 1524': 184, 'Census Tract 1525.01': 185, 'Census Tract 1525.02': 186, 'Census Tract 1526.05': 187, 'Census Tract 1527.01': 188, 'Census Tract 1531.03': 189, 'Census Tract 1531.04': 190, 'Census Tract 1531.05': 191, 'Census Tract 1531.06': 192, 'Census Tract 1531.07': 193, 'Census Tract 1541': 194, 'Census Tract 1542': 195, 'Census Tract 1544': 196, 'Census Tract 1545.01': 197, 'Census Tract 1545.02': 198, 'Census Tract 1546.01': 199, 'Census Tract 1546.03': 200, 'Census Tract 1546.04': 201, 'Census Tract 1561.01': 202, 'Census Tract 1601': 203, 'Census Tract 1604': 204, 'Census Tract 1606.02': 205, 'Census Tract 1606.03': 206, 'Census Tract 1609': 207, 'Census Tract 1610': 208, 'Census Tract 1612': 209, 'Census Tract 1613': 210, 'Census Tract 1616': 211, 'Census Tract 1702.02': 212, 'Census Tract 1711.02': 213, 'Census Tract 1711.03': 214, 'Census Tract 1711.04': 215, 'Census Tract 1712.03': 216, 'Census Tract 1712.04': 217, 'Census Tract 1712.05': 218, 'Census Tract 1712.06': 219, 'Census Tract 1721.02': 220, 'Census Tract 1722.02': 221, 'Census Tract 1731.04': 222, 'Census Tract 1731.07': 223, 'Census Tract 1742.05': 224, 'Census Tract 1742.07': 225, 'Census Tract 1751.07': 226, 'Census Tract 1751.08': 227, 'Census Tract 1751.10': 228, 'Census Tract 1752.01': 229, 'Census Tract 1752.02': 230, 'Census Tract 1761': 231, 'Census Tract 1762': 232, 'Census Tract 1771.01': 233, 'Census Tract 1771.03': 234, 'Census Tract 1771.04': 235, 'Census Tract 1772.01': 236, 'Census Tract 1772.02': 237, 'Census Tract 1773.03': 238, 'Census Tract 1773.04': 239, 'Census Tract 1774.03': 240, 'Census Tract 1774.05': 241, 'Census Tract 1774.06': 242, 'Census Tract 1775.05': 243, 'Census Tract 1776.04': 244, 'Census Tract 1776.06': 245, 'Census Tract 1776.08': 246, 'Census Tract 1781.01': 247, 'Census Tract 1782.01': 248, 'Census Tract 1782.04': 249, 'Census Tract 1782.05': 250, 'Census Tract 1801.03': 251, 'Census Tract 1801.04': 252, 'Census Tract 1812.01': 253, 'Census Tract 1812.03': 254, 'Census Tract 1812.04': 255, 'Census Tract 1821.06': 256, 'Census Tract 1831': 257, 'Census Tract 1832': 258, 'Census Tract 1833': 259, 'Census Tract 1834.01': 260, 'Census Tract 1834.02': 261, 'Census Tract 1835.01': 262, 'Census Tract 1835.02': 263, 'Census Tract 1836.03': 264, 'Census Tract 1836.04': 265, 'Census Tract 1836.06': 266, 'Census Tract 1841.04': 267, 'Census Tract 1841.06': 268, 'Census Tract 1851.01': 269, 'Census Tract 1851.02': 270, 'Census Tract 1851.04': 271, 'Census Tract 1852.01': 272, 'Census Tract 1852.02': 273, 'Census Tract 1852.03': 274, 'Census Tract 1861.07': 275, 'Census Tract 1862.03': 276, 'Census Tract 1871.03': 277, 'Census Tract 1871.06': 278, 'Census Tract 1881.03': 279, 'Census Tract 1881.06': 280, 'Census Tract 1881.07': 281, 'Census Tract 1891.07': 282, 'Census Tract 1891.08': 283, 'Census Tract 1891.11': 284, 'Census Tract 1923': 285, 'Census Tract 1928': 286, 'Census Tract 1957': 287, 'Census Tract 1959': 288, 'Census Tract 1960': 289, 'Census Tract 1961': 290, 'Census Tract 1962': 291, 'Census Tract 1963': 292, 'Census Tract 1964': 293, 'Census Tract 1968': 294, 'Census Tract 1970': 295, 'Census Tract 1971': 296, 'Census Tract 1972': 297, 'Census Tract 1973': 298, 'Census Tract 1974': 299, 'Census Tract 1975': 300, 'Census Tract 1976': 301, 'Census Tract 1977': 302, 'Census Tract 1978': 303, 'Census Tract 1979': 304, 'Census Tract 1980': 305, 'Census Tract 1981': 306, 'Census Tract 1982': 307, 'Census Tract 1983': 308, 'Census Tract 1984': 309, 'Census Tract 1985': 310, 'Census Tract 1986': 311, 'Census Tract 1987': 312, 'Census Tract 1988': 313, 'Census Tract 1989': 314, 'Census Tract 1990': 315, 'Census Tract 1991': 316, 'Census Tract 1992': 317, 'Census Tract 1993': 318, 'Census Tract 3106': 319, 'Census Tract 3115': 320, 'Census Tract 3117': 321, 'Census Tract 3118': 322, 'Census Tract 4001': 323, 'Census Tract 4040': 324, 'Census Tract 4050': 325, 'Census Tract 4080.01': 326, 'Census Tract 4080.03': 327, 'Census Tract 4081.01': 328, 'Census Tract 4081.02': 329, 'Census Tract 4154': 330, 'Census Tract 4160': 331, 'Census Tract 5201.05': 332, 'Census Tract 5203.01': 333, 'Census Tract 5203.02': 334, 'Census Tract 5205': 335, 'Census Tract 5301.01': 336, 'Census Tract 5301.03': 337, 'Census Tract 5301.05': 338, 'Census Tract 5308': 339, 'Census Tract 5325.01': 340, 'Census Tract 5325.02': 341, 'Census Tract 5327.05': 342, 'Census Tract 5327.08': 343, 'Census Tract 5331.01': 344, 'Census Tract 5340': 345, 'Census Tract 6003.02': 346, 'Census Tract 6003.04': 347, 'Census Tract 6012': 348, 'Census Tract 6014': 349, 'Census Tract 6015.01': 350, 'Census Tract 6015.02': 351, 'Census Tract 6015.03': 352, 'Census Tract 6016': 353, 'Census Tract 9801': 354, 'Census Tract 9802': 355, 'Census Tract 9805': 356, 'Census Tract 9809': 357, 'Census Tract 9810': 358, 'Census Tract 9811': 359}\n",
      "\n",
      "\n",
      "census_block: {'Block 1000': 0, 'Block 1001': 1, 'Block 1002': 2, 'Block 1003': 3, 'Block 1004': 4, 'Block 1005': 5, 'Block 1006': 6, 'Block 1007': 7, 'Block 1008': 8, 'Block 1009': 9, 'Block 1010': 10, 'Block 1011': 11, 'Block 1012': 12, 'Block 1013': 13, 'Block 1014': 14, 'Block 1015': 15, 'Block 1016': 16, 'Block 1017': 17, 'Block 1018': 18, 'Block 1019': 19, 'Block 1020': 20, 'Block 1021': 21, 'Block 1022': 22, 'Block 1023': 23, 'Block 1024': 24, 'Block 1025': 25, 'Block 1026': 26, 'Block 1027': 27, 'Block 1028': 28, 'Block 1029': 29, 'Block 1030': 30, 'Block 1031': 31, 'Block 1032': 32, 'Block 1033': 33, 'Block 1034': 34, 'Block 1035': 35, 'Block 1036': 36, 'Block 1037': 37, 'Block 1038': 38, 'Block 1039': 39, 'Block 1040': 40, 'Block 1041': 41, 'Block 1042': 42, 'Block 1043': 43, 'Block 1044': 44, 'Block 1045': 45, 'Block 1046': 46, 'Block 1047': 47, 'Block 1048': 48, 'Block 1049': 49, 'Block 1050': 50, 'Block 1051': 51, 'Block 1052': 52, 'Block 1053': 53, 'Block 1054': 54, 'Block 1055': 55, 'Block 1058': 56, 'Block 1059': 57, 'Block 1062': 58, 'Block 1065': 59, 'Block 1066': 60, 'Block 1067': 61, 'Block 1068': 62, 'Block 1069': 63, 'Block 1070': 64, 'Block 1071': 65, 'Block 1072': 66, 'Block 1073': 67, 'Block 2000': 68, 'Block 2001': 69, 'Block 2002': 70, 'Block 2003': 71, 'Block 2004': 72, 'Block 2005': 73, 'Block 2006': 74, 'Block 2007': 75, 'Block 2008': 76, 'Block 2009': 77, 'Block 2010': 78, 'Block 2011': 79, 'Block 2012': 80, 'Block 2013': 81, 'Block 2014': 82, 'Block 2015': 83, 'Block 2016': 84, 'Block 2017': 85, 'Block 2018': 86, 'Block 2019': 87, 'Block 2020': 88, 'Block 2021': 89, 'Block 2022': 90, 'Block 2023': 91, 'Block 2024': 92, 'Block 2025': 93, 'Block 2026': 94, 'Block 2027': 95, 'Block 2028': 96, 'Block 2029': 97, 'Block 2030': 98, 'Block 2031': 99, 'Block 2032': 100, 'Block 2033': 101, 'Block 2034': 102, 'Block 2035': 103, 'Block 2036': 104, 'Block 2037': 105, 'Block 2038': 106, 'Block 2039': 107, 'Block 2040': 108, 'Block 2041': 109, 'Block 2042': 110, 'Block 2043': 111, 'Block 2044': 112, 'Block 2045': 113, 'Block 2046': 114, 'Block 2047': 115, 'Block 2048': 116, 'Block 2050': 117, 'Block 2051': 118, 'Block 2053': 119, 'Block 2054': 120, 'Block 2055': 121, 'Block 2056': 122, 'Block 2058': 123, 'Block 2061': 124, 'Block 2062': 125, 'Block 2063': 126, 'Block 3000': 127, 'Block 3001': 128, 'Block 3002': 129, 'Block 3003': 130, 'Block 3004': 131, 'Block 3005': 132, 'Block 3006': 133, 'Block 3007': 134, 'Block 3008': 135, 'Block 3009': 136, 'Block 3010': 137, 'Block 3011': 138, 'Block 3012': 139, 'Block 3013': 140, 'Block 3014': 141, 'Block 3015': 142, 'Block 3016': 143, 'Block 3017': 144, 'Block 3018': 145, 'Block 3019': 146, 'Block 3020': 147, 'Block 3021': 148, 'Block 3022': 149, 'Block 3023': 150, 'Block 3024': 151, 'Block 3025': 152, 'Block 3026': 153, 'Block 3027': 154, 'Block 3028': 155, 'Block 3029': 156, 'Block 3030': 157, 'Block 3031': 158, 'Block 3032': 159, 'Block 3033': 160, 'Block 3034': 161, 'Block 3035': 162, 'Block 3036': 163, 'Block 3037': 164, 'Block 3038': 165, 'Block 3039': 166, 'Block 3040': 167, 'Block 3041': 168, 'Block 3042': 169, 'Block 3043': 170, 'Block 3044': 171, 'Block 3045': 172, 'Block 3046': 173, 'Block 3047': 174, 'Block 3048': 175, 'Block 3049': 176, 'Block 3050': 177, 'Block 3051': 178, 'Block 3052': 179, 'Block 3053': 180, 'Block 3054': 181, 'Block 3055': 182, 'Block 3056': 183, 'Block 3057': 184, 'Block 3058': 185, 'Block 3059': 186, 'Block 4000': 187, 'Block 4001': 188, 'Block 4002': 189, 'Block 4003': 190, 'Block 4004': 191, 'Block 4005': 192, 'Block 4006': 193, 'Block 4007': 194, 'Block 4008': 195, 'Block 4009': 196, 'Block 4010': 197, 'Block 4011': 198, 'Block 4012': 199, 'Block 4013': 200, 'Block 4014': 201, 'Block 4015': 202, 'Block 4016': 203, 'Block 4017': 204, 'Block 4018': 205, 'Block 4019': 206, 'Block 4020': 207, 'Block 4021': 208, 'Block 4022': 209, 'Block 4023': 210, 'Block 4024': 211, 'Block 4025': 212, 'Block 4026': 213, 'Block 5000': 214, 'Block 5001': 215, 'Block 5002': 216, 'Block 5003': 217, 'Block 5004': 218, 'Block 5005': 219, 'Block 5006': 220, 'Block 5007': 221, 'Block 5008': 222, 'Block 5009': 223, 'Block 5010': 224, 'Block 5011': 225, 'Block 5012': 226, 'Block 5013': 227, 'Block 5014': 228, 'Block 5015': 229, 'Block 5017': 230, 'Block 5018': 231, 'Block 5019': 232, 'Block 6000': 233, 'Block 6001': 234, 'Block 6002': 235, 'Block 6003': 236, 'Block 6004': 237, 'Block 6005': 238, 'Block 6006': 239}\n",
      "\n",
      "\n"
     ]
    }
   ],
   "source": [
    "from sklearn.preprocessing import LabelEncoder\n",
    "\n",
    "mappings = {}\n",
    "\n",
    "cols = ['ucr_desc', 'offense_year', 'time_block', 'census_tract', 'census_block']\n",
    "for col in cols:\n",
    "    le = LabelEncoder()\n",
    "    crime[col + '_numeric'] = le.fit_transform(crime[col])\n",
    "    \n",
    "    mappings[col] = dict(zip(le.classes_, le.transform(le.classes_)))\n",
    "    \n",
    "for col, mapping in mappings.items():\n",
    "    print(f\"{col}: {mapping}\")\n",
    "    print(\"\\n\")"
   ]
  },
  {
   "cell_type": "code",
   "execution_count": 152,
   "id": "eb573257-5d33-4e47-8e93-b273c45e873e",
   "metadata": {},
   "outputs": [],
   "source": [
    "# Drop last remaining unneeded columns\n",
    "# Only remaining column that may be unnessary is OffenseDate\n",
    "# It is useful to have a column in datetime format\n",
    "\n",
    "cols = ['ucr_desc', 'offense_year', 'time_block', 'census_tract', 'census_block']\n",
    "\n",
    "crime = crime.drop(columns=cols)"
   ]
  },
  {
   "cell_type": "code",
   "execution_count": 153,
   "id": "0ffa488b-ac67-499f-8e80-0b15488581ce",
   "metadata": {},
   "outputs": [
    {
     "name": "stdout",
     "output_type": "stream",
     "text": [
      "Total exact duplicates found: 0\n"
     ]
    }
   ],
   "source": [
    "duplicate_rows = crime[crime.duplicated(keep=False)]\n",
    "print(f\"Total exact duplicates found: {duplicate_rows.shape[0]}\")"
   ]
  },
  {
   "cell_type": "code",
   "execution_count": 154,
   "id": "ca7e7b1b-925a-4a8b-b084-088741a61745",
   "metadata": {},
   "outputs": [],
   "source": [
    "# Important to note that we do not perform any feature scaling here\n",
    "# This is because random forests are scale-invariant\n",
    "\n",
    "crime.to_csv(\"crime_weather_preprocessed\", index=False)"
   ]
  },
  {
   "cell_type": "code",
   "execution_count": null,
   "id": "b56b6292-64c0-41e5-91f2-f1b62913dea5",
   "metadata": {},
   "outputs": [],
   "source": []
  }
 ],
 "metadata": {
  "kernelspec": {
   "display_name": "Python 3 (ipykernel)",
   "language": "python",
   "name": "python3"
  },
  "language_info": {
   "codemirror_mode": {
    "name": "ipython",
    "version": 3
   },
   "file_extension": ".py",
   "mimetype": "text/x-python",
   "name": "python",
   "nbconvert_exporter": "python",
   "pygments_lexer": "ipython3",
   "version": "3.9.19"
  }
 },
 "nbformat": 4,
 "nbformat_minor": 5
}
