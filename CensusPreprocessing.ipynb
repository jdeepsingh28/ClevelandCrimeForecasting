{
 "cells": [
  {
   "cell_type": "code",
   "execution_count": 1,
   "id": "72f93a75",
   "metadata": {},
   "outputs": [],
   "source": [
    "import pandas as pd"
   ]
  },
  {
   "cell_type": "code",
   "execution_count": 109,
   "id": "e87790f5",
   "metadata": {},
   "outputs": [],
   "source": [
    "census = pd.read_csv(r\"C:\\Users\\singh\\Downloads\\Census Data-Poverty.csv\")"
   ]
  },
  {
   "cell_type": "code",
   "execution_count": 110,
   "id": "19585009",
   "metadata": {},
   "outputs": [
    {
     "data": {
      "text/plain": [
       "Index(['Object ID', 'Geographic Identifier - FIPS Code',\n",
       "       'Area of Land (Square Meters)', 'Area of Water (Square Meters)', 'Name',\n",
       "       'State', 'County',\n",
       "       'Total Population for whom Poverty Status is Determined',\n",
       "       'Total Population for whom Poverty Status is Determined - Margin of Error',\n",
       "       'Population whose income in the past 12 months is below federal poverty level',\n",
       "       'Population whose income in the past 12 months is below federal poverty level - Margin of Error',\n",
       "       'Population whose income in the past 12 months is below federal poverty level under 6 years',\n",
       "       'Population whose income in the past 12 months is below federal poverty level under 6 years - Margin of Error',\n",
       "       'Population whose income in the past 12 months is below federal poverty level 6 to 11 years',\n",
       "       'Population whose income in the past 12 months is below federal poverty level 6 to 11 years - Margin of Error',\n",
       "       'Population whose income in the past 12 months is below federal poverty level 12 to 17 years',\n",
       "       'Population whose income in the past 12 months is below federal poverty level 12 to 17 years - Margin of Error',\n",
       "       'Population whose income in the past 12 months is below federal poverty level 18 to 59 years',\n",
       "       'Population whose income in the past 12 months is below federal poverty level 18 to 59 years - Margin of Error',\n",
       "       'Population whose income in the past 12 months is below federal poverty level 60 to 74 years',\n",
       "       'Population whose income in the past 12 months is below federal poverty level 60 to 74 years - Margin of Error',\n",
       "       'Population whose income in the past 12 months is below federal poverty level 75 to 84 years',\n",
       "       'Population whose income in the past 12 months is below federal poverty level 75 to 84 years - Margin of Error',\n",
       "       'Population whose income in the past 12 months is below federal poverty level 85 years and over',\n",
       "       'Population whose income in the past 12 months is below federal poverty level 85 years and over - Margin of Error',\n",
       "       'Population whose income in the past 12 months is at or above federal poverty level',\n",
       "       'Population whose income in the past 12 months is at or above federal poverty level - Margin of Error',\n",
       "       'Population whose income in the past 12 months is at or above federal poverty level under 6 years',\n",
       "       'Population whose income in the past 12 months is at or above federal poverty level under 6 years - Margin of Error',\n",
       "       'Population whose income in the past 12 months is at or above federal poverty level 6 to 11 years',\n",
       "       'Population whose income in the past 12 months is at or above federal poverty level 6 to 11 years - Margin of Error',\n",
       "       'Population whose income in the past 12 months is at or above federal poverty level 12 to 17 years',\n",
       "       'Population whose income in the past 12 months is at or above federal poverty level 12 to 17 years - Margin of Error',\n",
       "       'Population whose income in the past 12 months is at or above federal poverty level 18 to 59 years',\n",
       "       'Population whose income in the past 12 months is at or above federal poverty level 18 to 59 years - Margin of Error',\n",
       "       'Population whose income in the past 12 months is at or above federal poverty level 60 to 74 years',\n",
       "       'Population whose income in the past 12 months is at or above federal poverty level 60 to 74 years - Margin of Error',\n",
       "       'Population whose income in the past 12 months is at or above federal poverty level 75 to 84 years',\n",
       "       'Population whose income in the past 12 months is at or above federal poverty level 75 to 84 years - Margin of Error',\n",
       "       'Population whose income in the past 12 months is at or above federal poverty level 85 years and over',\n",
       "       'Population whose income in the past 12 months is at or above federal poverty level 85 years and over - Margin of Error',\n",
       "       'Percent of Population whose income in the past 12 months is below poverty level',\n",
       "       'Percent of Population whose income in the past 12 months is below poverty level - Margin of Error',\n",
       "       'Child Population (under 18 years) whose income in the past 12 months is below poverty level',\n",
       "       'Child Population (under 18 years) whose income in the past 12 months is below poverty level - Margin of Error',\n",
       "       'Percent of Children (under 18 years) whose income in the past 12 months is below poverty level',\n",
       "       'Percent of Children (under 18 years) whose income in the past 12 months is below poverty level - Margin of Error',\n",
       "       'Child Population (under 18 years) for whom Poverty Status is Determined',\n",
       "       'Child Population (under 18 years) for whom Poverty Status is Determined - Margin of Error',\n",
       "       'Population whose income in the past 12 months is under .50x (under 50% of) the federal poverty level',\n",
       "       'Population whose income in the past 12 months is under .50x (under 50% of) the federal poverty level - Margin of Error',\n",
       "       'Population whose income in the past 12 months is between .50x and .99x (50% to 99% of) the federal poverty level',\n",
       "       'Population whose income in the past 12 months is between .50x and .99x (50% to 99% of) the federal poverty level - Margin of Error',\n",
       "       'Population whose income in the past 12 months is between 1.00x and 1.24x (100% to 124% of) the federal poverty level',\n",
       "       'Population whose income in the past 12 months is between 1.00x and 1.24x (100% to 124% of) the federal poverty level - Margin of Error',\n",
       "       'Population whose income in the past 12 months is between 1.25x and 1.49x (125% to 149% of) the federal poverty level',\n",
       "       'Population whose income in the past 12 months is between 1.25x and 1.49x (125% to 149% of) the federal poverty level - Margin of Error',\n",
       "       'Population whose income in the past 12 months is between 1.50x and 1.84x (150% to 184% of) the federal poverty level',\n",
       "       'Population whose income in the past 12 months is between 1.50x and 1.84x (150% to 184% of) the federal poverty level - Margin of Error',\n",
       "       'Population whose income in the past 12 months is between 1.85x and 1.99x (185% to 199% of) the federal poverty level',\n",
       "       'Population whose income in the past 12 months is between 1.85x and 1.99x (185% to 199% of) the federal poverty level - Margin of Error',\n",
       "       'Population whose income in the past 12 months is 2.00x and over (200% or more of) the federal poverty level',\n",
       "       'Population whose income in the past 12 months is 2.00x and over (200% or more of) the federal poverty level - Margin of Error',\n",
       "       'Percent of population whose income in the past 12 months is under .50x (under 50% of) the federal poverty level',\n",
       "       'Percent of population whose income in the past 12 months is under .50x (under 50% of) the federal poverty level - Margin of Error',\n",
       "       'Percent of population whose income in the past 12 months is between .50x and .99x (50% to 99% of) the federal poverty level',\n",
       "       'Percent of population whose income in the past 12 months is between .50x and .99x (50% to 99% of) the federal poverty level - Margin of Error',\n",
       "       'Percent of population whose income in the past 12 months is between 1.00x and 1.24x (100% to 124% of) the federal poverty level',\n",
       "       'Percent of population whose income in the past 12 months is between 1.00x and 1.24x (100% to 124% of) the federal poverty level - Margin of Error',\n",
       "       'Percent of population whose income in the past 12 months is between 1.25x and 1.49x (125% to 149% of) the federal poverty level',\n",
       "       'Percent of population whose income in the past 12 months is between 1.25x and 1.49x (125% to 149% of) the federal poverty level - Margin of Error',\n",
       "       'Percent of population whose income in the past 12 months is between 1.50x and 1.84x (150% to 184% of) the federal poverty level',\n",
       "       'Percent of population whose income in the past 12 months is between 1.50x and 1.84x (150% to 184% of) the federal poverty level - Margin of Error',\n",
       "       'Percent of population whose income in the past 12 months is between 1.85x and 1.99x (185% to 199% of) the federal poverty level',\n",
       "       'Percent of population whose income in the past 12 months is between 1.85x and 1.99x (185% to 199% of) the federal poverty level - Margin of Error',\n",
       "       'Percent of population whose income in the past 12 months is 2.00x and over (200% of) the federal poverty level',\n",
       "       'Percent of population whose income in the past 12 months 2.00x and over (200% of) the federal poverty level - Margin of Error',\n",
       "       'Shape__Area', 'Shape__Length', 'Place Name', 'Place FIPS'],\n",
       "      dtype='object')"
      ]
     },
     "execution_count": 110,
     "metadata": {},
     "output_type": "execute_result"
    }
   ],
   "source": [
    "census.columns"
   ]
  },
  {
   "cell_type": "code",
   "execution_count": 111,
   "id": "57a7777f",
   "metadata": {},
   "outputs": [],
   "source": [
    "filtered_columns = [col for col in census.columns if 'Margin of Error' not in col]\n",
    "\n",
    "# Create a new DataFrame with the filtered columns\n",
    "census = census[filtered_columns]"
   ]
  },
  {
   "cell_type": "code",
   "execution_count": 112,
   "id": "28ce9330",
   "metadata": {},
   "outputs": [],
   "source": [
    "census = census.drop([\"Name\", \"State\", \"County\", \"Shape__Area\", \"Shape__Length\", \"Place Name\", \"Place FIPS\", \"Object ID\"], axis=1)"
   ]
  },
  {
   "cell_type": "code",
   "execution_count": 113,
   "id": "34986fde",
   "metadata": {},
   "outputs": [
    {
     "data": {
      "text/html": [
       "<div>\n",
       "<style scoped>\n",
       "    .dataframe tbody tr th:only-of-type {\n",
       "        vertical-align: middle;\n",
       "    }\n",
       "\n",
       "    .dataframe tbody tr th {\n",
       "        vertical-align: top;\n",
       "    }\n",
       "\n",
       "    .dataframe thead th {\n",
       "        text-align: right;\n",
       "    }\n",
       "</style>\n",
       "<table border=\"1\" class=\"dataframe\">\n",
       "  <thead>\n",
       "    <tr style=\"text-align: right;\">\n",
       "      <th></th>\n",
       "      <th>Geographic Identifier - FIPS Code</th>\n",
       "      <th>Area of Land (Square Meters)</th>\n",
       "      <th>Area of Water (Square Meters)</th>\n",
       "      <th>Total Population for whom Poverty Status is Determined</th>\n",
       "      <th>Population whose income in the past 12 months is below federal poverty level</th>\n",
       "      <th>Population whose income in the past 12 months is below federal poverty level under 6 years</th>\n",
       "      <th>Population whose income in the past 12 months is below federal poverty level 6 to 11 years</th>\n",
       "      <th>Population whose income in the past 12 months is below federal poverty level 12 to 17 years</th>\n",
       "      <th>Population whose income in the past 12 months is below federal poverty level 18 to 59 years</th>\n",
       "      <th>Population whose income in the past 12 months is below federal poverty level 60 to 74 years</th>\n",
       "      <th>...</th>\n",
       "      <th>Population whose income in the past 12 months is between 1.50x and 1.84x (150% to 184% of) the federal poverty level</th>\n",
       "      <th>Population whose income in the past 12 months is between 1.85x and 1.99x (185% to 199% of) the federal poverty level</th>\n",
       "      <th>Population whose income in the past 12 months is 2.00x and over (200% or more of) the federal poverty level</th>\n",
       "      <th>Percent of population whose income in the past 12 months is under .50x (under 50% of) the federal poverty level</th>\n",
       "      <th>Percent of population whose income in the past 12 months is between .50x and .99x (50% to 99% of) the federal poverty level</th>\n",
       "      <th>Percent of population whose income in the past 12 months is between 1.00x and 1.24x (100% to 124% of) the federal poverty level</th>\n",
       "      <th>Percent of population whose income in the past 12 months is between 1.25x and 1.49x (125% to 149% of) the federal poverty level</th>\n",
       "      <th>Percent of population whose income in the past 12 months is between 1.50x and 1.84x (150% to 184% of) the federal poverty level</th>\n",
       "      <th>Percent of population whose income in the past 12 months is between 1.85x and 1.99x (185% to 199% of) the federal poverty level</th>\n",
       "      <th>Percent of population whose income in the past 12 months is 2.00x and over (200% of) the federal poverty level</th>\n",
       "    </tr>\n",
       "  </thead>\n",
       "  <tbody>\n",
       "  </tbody>\n",
       "</table>\n",
       "<p>0 rows × 38 columns</p>\n",
       "</div>"
      ],
      "text/plain": [
       "Empty DataFrame\n",
       "Columns: [Geographic Identifier - FIPS Code, Area of Land (Square Meters), Area of Water (Square Meters), Total Population for whom Poverty Status is Determined, Population whose income in the past 12 months is below federal poverty level, Population whose income in the past 12 months is below federal poverty level under 6 years, Population whose income in the past 12 months is below federal poverty level 6 to 11 years, Population whose income in the past 12 months is below federal poverty level 12 to 17 years, Population whose income in the past 12 months is below federal poverty level 18 to 59 years, Population whose income in the past 12 months is below federal poverty level 60 to 74 years, Population whose income in the past 12 months is below federal poverty level 75 to 84 years, Population whose income in the past 12 months is below federal poverty level 85 years and over, Population whose income in the past 12 months is at or above federal poverty level, Population whose income in the past 12 months is at or above federal poverty level under 6 years, Population whose income in the past 12 months is at or above federal poverty level 6 to 11 years, Population whose income in the past 12 months is at or above federal poverty level 12 to 17 years, Population whose income in the past 12 months is at or above federal poverty level 18 to 59 years, Population whose income in the past 12 months is at or above federal poverty level 60 to 74 years, Population whose income in the past 12 months is at or above federal poverty level 75 to 84 years, Population whose income in the past 12 months is at or above federal poverty level 85 years and over, Percent of Population whose income in the past 12 months is below poverty level, Child Population (under 18 years) whose income in the past 12 months is below poverty level, Percent of Children (under 18 years) whose income in the past 12 months is below poverty level, Child Population (under 18 years) for whom Poverty Status is Determined, Population whose income in the past 12 months is under .50x (under 50% of) the federal poverty level, Population whose income in the past 12 months is between .50x and .99x (50% to 99% of) the federal poverty level, Population whose income in the past 12 months is between 1.00x and 1.24x (100% to 124% of) the federal poverty level, Population whose income in the past 12 months is between 1.25x and 1.49x (125% to 149% of) the federal poverty level, Population whose income in the past 12 months is between 1.50x and 1.84x (150% to 184% of) the federal poverty level, Population whose income in the past 12 months is between 1.85x and 1.99x (185% to 199% of) the federal poverty level, Population whose income in the past 12 months is 2.00x and over (200% or more of) the federal poverty level, Percent of population whose income in the past 12 months is under .50x (under 50% of) the federal poverty level, Percent of population whose income in the past 12 months is between .50x and .99x (50% to 99% of) the federal poverty level, Percent of population whose income in the past 12 months is between 1.00x and 1.24x (100% to 124% of) the federal poverty level, Percent of population whose income in the past 12 months is between 1.25x and 1.49x (125% to 149% of) the federal poverty level, Percent of population whose income in the past 12 months is between 1.50x and 1.84x (150% to 184% of) the federal poverty level, Percent of population whose income in the past 12 months is between 1.85x and 1.99x (185% to 199% of) the federal poverty level, Percent of population whose income in the past 12 months is 2.00x and over (200% of) the federal poverty level]\n",
       "Index: []\n",
       "\n",
       "[0 rows x 38 columns]"
      ]
     },
     "execution_count": 113,
     "metadata": {},
     "output_type": "execute_result"
    }
   ],
   "source": [
    "duplicate_rows = census[census.duplicated()]\n",
    "duplicate_rows"
   ]
  },
  {
   "cell_type": "code",
   "execution_count": 114,
   "id": "241ed367",
   "metadata": {},
   "outputs": [
    {
     "data": {
      "text/html": [
       "<div>\n",
       "<style scoped>\n",
       "    .dataframe tbody tr th:only-of-type {\n",
       "        vertical-align: middle;\n",
       "    }\n",
       "\n",
       "    .dataframe tbody tr th {\n",
       "        vertical-align: top;\n",
       "    }\n",
       "\n",
       "    .dataframe thead th {\n",
       "        text-align: right;\n",
       "    }\n",
       "</style>\n",
       "<table border=\"1\" class=\"dataframe\">\n",
       "  <thead>\n",
       "    <tr style=\"text-align: right;\">\n",
       "      <th></th>\n",
       "      <th>Geographic Identifier - FIPS Code</th>\n",
       "      <th>Area of Land (Square Meters)</th>\n",
       "      <th>Area of Water (Square Meters)</th>\n",
       "      <th>Total Population for whom Poverty Status is Determined</th>\n",
       "      <th>Population whose income in the past 12 months is below federal poverty level</th>\n",
       "      <th>Population whose income in the past 12 months is below federal poverty level under 6 years</th>\n",
       "      <th>Population whose income in the past 12 months is below federal poverty level 6 to 11 years</th>\n",
       "      <th>Population whose income in the past 12 months is below federal poverty level 12 to 17 years</th>\n",
       "      <th>Population whose income in the past 12 months is below federal poverty level 18 to 59 years</th>\n",
       "      <th>Population whose income in the past 12 months is below federal poverty level 60 to 74 years</th>\n",
       "      <th>...</th>\n",
       "      <th>Population whose income in the past 12 months is between 1.50x and 1.84x (150% to 184% of) the federal poverty level</th>\n",
       "      <th>Population whose income in the past 12 months is between 1.85x and 1.99x (185% to 199% of) the federal poverty level</th>\n",
       "      <th>Population whose income in the past 12 months is 2.00x and over (200% or more of) the federal poverty level</th>\n",
       "      <th>Percent of population whose income in the past 12 months is under .50x (under 50% of) the federal poverty level</th>\n",
       "      <th>Percent of population whose income in the past 12 months is between .50x and .99x (50% to 99% of) the federal poverty level</th>\n",
       "      <th>Percent of population whose income in the past 12 months is between 1.00x and 1.24x (100% to 124% of) the federal poverty level</th>\n",
       "      <th>Percent of population whose income in the past 12 months is between 1.25x and 1.49x (125% to 149% of) the federal poverty level</th>\n",
       "      <th>Percent of population whose income in the past 12 months is between 1.50x and 1.84x (150% to 184% of) the federal poverty level</th>\n",
       "      <th>Percent of population whose income in the past 12 months is between 1.85x and 1.99x (185% to 199% of) the federal poverty level</th>\n",
       "      <th>Percent of population whose income in the past 12 months is 2.00x and over (200% of) the federal poverty level</th>\n",
       "    </tr>\n",
       "  </thead>\n",
       "  <tbody>\n",
       "  </tbody>\n",
       "</table>\n",
       "<p>0 rows × 38 columns</p>\n",
       "</div>"
      ],
      "text/plain": [
       "Empty DataFrame\n",
       "Columns: [Geographic Identifier - FIPS Code, Area of Land (Square Meters), Area of Water (Square Meters), Total Population for whom Poverty Status is Determined, Population whose income in the past 12 months is below federal poverty level, Population whose income in the past 12 months is below federal poverty level under 6 years, Population whose income in the past 12 months is below federal poverty level 6 to 11 years, Population whose income in the past 12 months is below federal poverty level 12 to 17 years, Population whose income in the past 12 months is below federal poverty level 18 to 59 years, Population whose income in the past 12 months is below federal poverty level 60 to 74 years, Population whose income in the past 12 months is below federal poverty level 75 to 84 years, Population whose income in the past 12 months is below federal poverty level 85 years and over, Population whose income in the past 12 months is at or above federal poverty level, Population whose income in the past 12 months is at or above federal poverty level under 6 years, Population whose income in the past 12 months is at or above federal poverty level 6 to 11 years, Population whose income in the past 12 months is at or above federal poverty level 12 to 17 years, Population whose income in the past 12 months is at or above federal poverty level 18 to 59 years, Population whose income in the past 12 months is at or above federal poverty level 60 to 74 years, Population whose income in the past 12 months is at or above federal poverty level 75 to 84 years, Population whose income in the past 12 months is at or above federal poverty level 85 years and over, Percent of Population whose income in the past 12 months is below poverty level, Child Population (under 18 years) whose income in the past 12 months is below poverty level, Percent of Children (under 18 years) whose income in the past 12 months is below poverty level, Child Population (under 18 years) for whom Poverty Status is Determined, Population whose income in the past 12 months is under .50x (under 50% of) the federal poverty level, Population whose income in the past 12 months is between .50x and .99x (50% to 99% of) the federal poverty level, Population whose income in the past 12 months is between 1.00x and 1.24x (100% to 124% of) the federal poverty level, Population whose income in the past 12 months is between 1.25x and 1.49x (125% to 149% of) the federal poverty level, Population whose income in the past 12 months is between 1.50x and 1.84x (150% to 184% of) the federal poverty level, Population whose income in the past 12 months is between 1.85x and 1.99x (185% to 199% of) the federal poverty level, Population whose income in the past 12 months is 2.00x and over (200% or more of) the federal poverty level, Percent of population whose income in the past 12 months is under .50x (under 50% of) the federal poverty level, Percent of population whose income in the past 12 months is between .50x and .99x (50% to 99% of) the federal poverty level, Percent of population whose income in the past 12 months is between 1.00x and 1.24x (100% to 124% of) the federal poverty level, Percent of population whose income in the past 12 months is between 1.25x and 1.49x (125% to 149% of) the federal poverty level, Percent of population whose income in the past 12 months is between 1.50x and 1.84x (150% to 184% of) the federal poverty level, Percent of population whose income in the past 12 months is between 1.85x and 1.99x (185% to 199% of) the federal poverty level, Percent of population whose income in the past 12 months is 2.00x and over (200% of) the federal poverty level]\n",
       "Index: []\n",
       "\n",
       "[0 rows x 38 columns]"
      ]
     },
     "execution_count": 114,
     "metadata": {},
     "output_type": "execute_result"
    }
   ],
   "source": [
    "rows_with_null = census[census.isnull().any(axis=1)]\n",
    "rows_with_null"
   ]
  },
  {
   "cell_type": "code",
   "execution_count": 115,
   "id": "b44f9415",
   "metadata": {},
   "outputs": [],
   "source": [
    "#census = census.drop(\"deprecated field\", axis=1)"
   ]
  },
  {
   "cell_type": "code",
   "execution_count": 116,
   "id": "c5595756",
   "metadata": {},
   "outputs": [
    {
     "name": "stdout",
     "output_type": "stream",
     "text": [
      "<class 'pandas.core.frame.DataFrame'>\n",
      "RangeIndex: 427 entries, 0 to 426\n",
      "Data columns (total 38 columns):\n",
      " #   Column                                                                                                                           Non-Null Count  Dtype  \n",
      "---  ------                                                                                                                           --------------  -----  \n",
      " 0   Geographic Identifier - FIPS Code                                                                                                427 non-null    int64  \n",
      " 1   Area of Land (Square Meters)                                                                                                     427 non-null    int64  \n",
      " 2   Area of Water (Square Meters)                                                                                                    427 non-null    int64  \n",
      " 3   Total Population for whom Poverty Status is Determined                                                                           427 non-null    int64  \n",
      " 4   Population whose income in the past 12 months is below federal poverty level                                                     427 non-null    int64  \n",
      " 5   Population whose income in the past 12 months is below federal poverty level under 6 years                                       427 non-null    int64  \n",
      " 6   Population whose income in the past 12 months is below federal poverty level 6 to 11 years                                       427 non-null    int64  \n",
      " 7   Population whose income in the past 12 months is below federal poverty level 12 to 17 years                                      427 non-null    int64  \n",
      " 8   Population whose income in the past 12 months is below federal poverty level 18 to 59 years                                      427 non-null    int64  \n",
      " 9   Population whose income in the past 12 months is below federal poverty level 60 to 74 years                                      427 non-null    int64  \n",
      " 10  Population whose income in the past 12 months is below federal poverty level 75 to 84 years                                      427 non-null    int64  \n",
      " 11  Population whose income in the past 12 months is below federal poverty level 85 years and over                                   427 non-null    int64  \n",
      " 12  Population whose income in the past 12 months is at or above federal poverty level                                               427 non-null    int64  \n",
      " 13  Population whose income in the past 12 months is at or above federal poverty level under 6 years                                 427 non-null    int64  \n",
      " 14  Population whose income in the past 12 months is at or above federal poverty level 6 to 11 years                                 427 non-null    int64  \n",
      " 15  Population whose income in the past 12 months is at or above federal poverty level 12 to 17 years                                427 non-null    int64  \n",
      " 16  Population whose income in the past 12 months is at or above federal poverty level 18 to 59 years                                427 non-null    int64  \n",
      " 17  Population whose income in the past 12 months is at or above federal poverty level 60 to 74 years                                427 non-null    int64  \n",
      " 18  Population whose income in the past 12 months is at or above federal poverty level 75 to 84 years                                427 non-null    int64  \n",
      " 19  Population whose income in the past 12 months is at or above federal poverty level 85 years and over                             427 non-null    int64  \n",
      " 20  Percent of Population whose income in the past 12 months is below poverty level                                                  427 non-null    float64\n",
      " 21  Child Population (under 18 years) whose income in the past 12 months is below poverty level                                      427 non-null    int64  \n",
      " 22  Percent of Children (under 18 years) whose income in the past 12 months is below poverty level                                   427 non-null    float64\n",
      " 23  Child Population (under 18 years) for whom Poverty Status is Determined                                                          427 non-null    int64  \n",
      " 24  Population whose income in the past 12 months is under .50x (under 50% of) the federal poverty level                             427 non-null    int64  \n",
      " 25  Population whose income in the past 12 months is between .50x and .99x (50% to 99% of) the federal poverty level                 427 non-null    int64  \n",
      " 26  Population whose income in the past 12 months is between 1.00x and 1.24x (100% to 124% of) the federal poverty level             427 non-null    int64  \n",
      " 27  Population whose income in the past 12 months is between 1.25x and 1.49x (125% to 149% of) the federal poverty level             427 non-null    int64  \n",
      " 28  Population whose income in the past 12 months is between 1.50x and 1.84x (150% to 184% of) the federal poverty level             427 non-null    int64  \n",
      " 29  Population whose income in the past 12 months is between 1.85x and 1.99x (185% to 199% of) the federal poverty level             427 non-null    int64  \n",
      " 30  Population whose income in the past 12 months is 2.00x and over (200% or more of) the federal poverty level                      427 non-null    int64  \n",
      " 31  Percent of population whose income in the past 12 months is under .50x (under 50% of) the federal poverty level                  427 non-null    float64\n",
      " 32  Percent of population whose income in the past 12 months is between .50x and .99x (50% to 99% of) the federal poverty level      427 non-null    float64\n",
      " 33  Percent of population whose income in the past 12 months is between 1.00x and 1.24x (100% to 124% of) the federal poverty level  427 non-null    float64\n",
      " 34  Percent of population whose income in the past 12 months is between 1.25x and 1.49x (125% to 149% of) the federal poverty level  427 non-null    float64\n",
      " 35  Percent of population whose income in the past 12 months is between 1.50x and 1.84x (150% to 184% of) the federal poverty level  427 non-null    float64\n",
      " 36  Percent of population whose income in the past 12 months is between 1.85x and 1.99x (185% to 199% of) the federal poverty level  427 non-null    float64\n",
      " 37  Percent of population whose income in the past 12 months is 2.00x and over (200% of) the federal poverty level                   427 non-null    float64\n",
      "dtypes: float64(9), int64(29)\n",
      "memory usage: 126.9 KB\n"
     ]
    }
   ],
   "source": [
    "census.info()"
   ]
  },
  {
   "cell_type": "code",
   "execution_count": 117,
   "id": "94ed0a75",
   "metadata": {},
   "outputs": [],
   "source": [
    "census['Geographic Identifier - FIPS Code'] = census['Geographic Identifier - FIPS Code'].astype(str)"
   ]
  },
  {
   "cell_type": "code",
   "execution_count": 118,
   "id": "688b574d",
   "metadata": {},
   "outputs": [],
   "source": [
    "census.to_csv(\"CensusPopulationClean\", index=False)"
   ]
  },
  {
   "cell_type": "code",
   "execution_count": null,
   "id": "f7c24d8c",
   "metadata": {},
   "outputs": [],
   "source": []
  }
 ],
 "metadata": {
  "kernelspec": {
   "display_name": "Python 3 (ipykernel)",
   "language": "python",
   "name": "python3"
  },
  "language_info": {
   "codemirror_mode": {
    "name": "ipython",
    "version": 3
   },
   "file_extension": ".py",
   "mimetype": "text/x-python",
   "name": "python",
   "nbconvert_exporter": "python",
   "pygments_lexer": "ipython3",
   "version": "3.9.13"
  }
 },
 "nbformat": 4,
 "nbformat_minor": 5
}
