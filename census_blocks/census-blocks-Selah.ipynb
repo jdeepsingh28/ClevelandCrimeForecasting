{
 "cells": [
  {
   "cell_type": "code",
   "execution_count": 1,
   "metadata": {},
   "outputs": [],
   "source": [
    "import numpy as np \n",
    "import pandas as pd\n",
    "import geopandas as gpd"
   ]
  },
  {
   "cell_type": "code",
   "execution_count": 2,
   "metadata": {},
   "outputs": [],
   "source": [
    "# Load shape file\n",
    "# Downloaded from https://www.census.gov/cgi-bin/geo/shapefiles/index.php\n",
    "block_shapefile = gpd.read_file(\"tl_2023_39_tabblock20/tl_2023_39_tabblock20.shp\")"
   ]
  },
  {
   "cell_type": "code",
   "execution_count": 3,
   "metadata": {},
   "outputs": [
    {
     "name": "stderr",
     "output_type": "stream",
     "text": [
      "C:\\Users\\sgdea\\AppData\\Local\\Temp\\ipykernel_18136\\2773976917.py:2: DtypeWarning: Columns (17) have mixed types. Specify dtype option on import or set low_memory=False.\n",
      "  crime_data = pd.read_csv('crime_incidents.csv')\n"
     ]
    }
   ],
   "source": [
    "# Load crime data to filter the census blocks \n",
    "crime_data = pd.read_csv('crime_incidents.csv')"
   ]
  },
  {
   "cell_type": "code",
   "execution_count": 4,
   "metadata": {},
   "outputs": [
    {
     "data": {
      "text/plain": [
       "{'Not Located'}"
      ]
     },
     "execution_count": 4,
     "metadata": {},
     "output_type": "execute_result"
    }
   ],
   "source": [
    "# Find the unique census blocks in the crime data \n",
    "crime_census_blocks = np.unique(crime_data['CENSUS_BLOCK_GEOID'])\n",
    "\n",
    "# Filter the shape data to include only these blocks \n",
    "block_shapefile_filtered = block_shapefile[block_shapefile['GEOID20'].isin(crime_census_blocks)]\n",
    "\n",
    "# Check to make sure that all of the blocks matched \n",
    "set(crime_census_blocks)  - set(block_shapefile_filtered['GEOID20'])"
   ]
  },
  {
   "cell_type": "code",
   "execution_count": 5,
   "metadata": {},
   "outputs": [],
   "source": [
    "# Calculate the center of each block \n",
    "\n",
    "# Ensure the GeoDataFrame is in a projected CRS before calculating centroids\n",
    "block_shapefile_filtered  = block_shapefile_filtered.to_crs(epsg=3857)\n",
    "\n",
    "# Calculate the centroid of the block group geometry\n",
    "block_shapefile_filtered ['centroid'] = block_shapefile_filtered .geometry.centroid\n",
    "\n",
    "# Convert centroid back to latitude and longitude\n",
    "centroid_lat_lon = block_shapefile_filtered ['centroid'].to_crs(epsg=4326)  # Convert back to WGS84\n",
    "\n",
    "# Assign latitude and longitude to new columns\n",
    "block_shapefile_filtered ['lat_center'] = centroid_lat_lon.y\n",
    "block_shapefile_filtered ['lon_center'] = centroid_lat_lon.x"
   ]
  },
  {
   "cell_type": "code",
   "execution_count": 6,
   "metadata": {},
   "outputs": [],
   "source": [
    "# Create a separate dataframe for the blocks \n",
    "census_block_loc = block_shapefile_filtered[['GEOID20', 'lat_center', 'lon_center']].reset_index(drop=True)\n",
    "census_block_loc.columns.values[0] = 'geo_id'"
   ]
  },
  {
   "cell_type": "code",
   "execution_count": 8,
   "metadata": {},
   "outputs": [],
   "source": [
    "# Save the csv to be using for mapping other attributes \n",
    "census_block_loc.to_csv('census-block-locations.csv')"
   ]
  },
  {
   "cell_type": "code",
   "execution_count": 9,
   "metadata": {},
   "outputs": [
    {
     "data": {
      "text/plain": [
       "6671"
      ]
     },
     "execution_count": 9,
     "metadata": {},
     "output_type": "execute_result"
    }
   ],
   "source": [
    "len(census_block_loc)"
   ]
  }
 ],
 "metadata": {
  "kernelspec": {
   "display_name": "Python 3",
   "language": "python",
   "name": "python3"
  },
  "language_info": {
   "codemirror_mode": {
    "name": "ipython",
    "version": 3
   },
   "file_extension": ".py",
   "mimetype": "text/x-python",
   "name": "python",
   "nbconvert_exporter": "python",
   "pygments_lexer": "ipython3",
   "version": "3.10.1"
  }
 },
 "nbformat": 4,
 "nbformat_minor": 2
}
