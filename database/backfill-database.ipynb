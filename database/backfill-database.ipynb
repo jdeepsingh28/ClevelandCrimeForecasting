{
 "cells": [
  {
   "cell_type": "code",
   "execution_count": 1,
   "metadata": {},
   "outputs": [],
   "source": [
    "import pandas as pd\n",
    "import numpy as np \n",
    "\n",
    "# To access the database\n",
    "from modules.postgres import AppSettings, PostgresConnector\n",
    "from queries.queries import insert_query\n",
    "\n",
    "# To access the weather API at https://open-meteo.com/en/docs/historical-weather-api\n",
    "import openmeteo_requests\n",
    "import requests_cache\n",
    "from retry_requests import retry"
   ]
  },
  {
   "cell_type": "markdown",
   "metadata": {},
   "source": [
    "Set up Database Connection "
   ]
  },
  {
   "cell_type": "code",
   "execution_count": 9,
   "metadata": {},
   "outputs": [],
   "source": [
    "# Set up the connection to the database \n",
    "settings = AppSettings(\n",
    "    DBNAME=\"senior-project-db\",\n",
    "    USER=\"postgre\",\n",
    "    PASSWORD=\"BxQdWkTb3bkU6s1tkfi8\",\n",
    "    HOST=\"senior-project-db.cfc84082wdma.us-east-1.rds.amazonaws.com\",\n",
    ")\n",
    "\n",
    "# Create client that is connected to the database \n",
    "client = PostgresConnector(settings)"
   ]
  },
  {
   "cell_type": "markdown",
   "metadata": {},
   "source": [
    "Census Blocks "
   ]
  },
  {
   "cell_type": "code",
   "execution_count": null,
   "metadata": {},
   "outputs": [],
   "source": [
    "# Load the csv containing census block data for Cleveland \n",
    "census_blocks = pd.read_csv('census-block-locations.csv')\n",
    "\n",
    "# Convert types to be properly stored in database\n",
    "census_blocks[\"geoid\"] = census_blocks[\"geoid\"].astype(str)\n",
    "\n",
    "# Set the database table name, the columns, and values to be inserted \n",
    "table_name = \"census_blocks\"\n",
    "cols = \",\".join(list(census_blocks.columns))\n",
    "values = [tuple(block) for block in census_blocks.to_numpy()]\n",
    "\n",
    "# Insert values\n",
    "try: \n",
    "    insert_query(client, table_name, cols, values)\n",
    "except Exception as e: \n",
    "    print(f\"Error when inserting data: {e}\")"
   ]
  },
  {
   "cell_type": "markdown",
   "metadata": {},
   "source": [
    "Crime Data"
   ]
  },
  {
   "cell_type": "code",
   "execution_count": null,
   "metadata": {},
   "outputs": [],
   "source": [
    "# read in csv of crime data \n",
    "crime_data = pd.read_csv(\"crime_incidents.csv\")\n",
    "\n",
    "# Clean up the columns that will be inserted \n",
    "crime_data = crime_data.dropna(subset=[\"LAT\", \"LON\"]) # drop rows that don't have a location \n",
    "crime_data = crime_data.drop([\"x\", \"y\"], axis=1) # not including the x and y columns, using lat and lon for location \n",
    "crime_data = crime_data.loc[crime_data[\"OffenseYear\"] >= 2018] # include only crimes from 2018 to present\n",
    "\n",
    "# Convert ids to strings to conform with database \n",
    "crime_data[\"OBJECTID\"] = crime_data[\"OBJECTID\"].astype(str) \n",
    "crime_data[\"PrimaryKey\"] = crime_data[\"PrimaryKey\"].astype(str)\n",
    "crime_data[\"CENSUS_TRACT_GEOID\"] = crime_data[\"CENSUS_TRACT_GEOID\"].astype(str)\n",
    "crime_data[\"CENSUS_BG_GEOID\"] = crime_data[\"CENSUS_BG_GEOID\"].astype(str)\n",
    "crime_data[\"CENSUS_BLOCK_GEOID\"] = crime_data[\"CENSUS_BLOCK_GEOID\"].astype(str)\n",
    "\n",
    "# Fill missing zip codes with zero and then convert to int\n",
    "crime_data[\"Zip\"] = crime_data[\"Zip\"].fillna(0)\n",
    "crime_data[\"Zip\"] = crime_data[\"Zip\"].astype(int)\n",
    "\n",
    "# Set the database table name, the columns, and values to be inserted \n",
    "table_name = \"crimes\"\n",
    "cols = \"object_id, primary_key, case_number, district, ucr_desc, offense_year, time_group, reported_date, offense_month, offense_day, time_block, dow_name, dow, hour_of_day, days_ago, offense_date, statute, zip, stat_desc, address_public, std_parcelpin, ward, city, census_tract, census_tract_geoid, census_block_group, census_bg_geoid, census_block, census_block_geoid, lat, lon\"\n",
    "crime_data_values = [tuple(data) for data in crime_data.to_numpy()]\n",
    "\n",
    "# Insert values\n",
    "try: \n",
    "    insert_query(client, table_name, cols, crime_data_values)\n",
    "except Exception as e: \n",
    "        print(f\"Error when inserting data: {e}\")"
   ]
  },
  {
   "cell_type": "markdown",
   "metadata": {},
   "source": [
    "Weather Data "
   ]
  },
  {
   "cell_type": "code",
   "execution_count": 22,
   "metadata": {},
   "outputs": [],
   "source": [
    "# Can only hit the API a few items per hour and there is a daily limit to consider\n",
    "# Create list of latitudes and longitudes to be fetched\n",
    "lat_to_insert = census_blocks[\"lat_center\"].tolist()[6600:]\n",
    "lon_to_insert = census_blocks[\"lon_center\"].tolist()[6600:]\n",
    "start_date = \"2018-01-01\"\n",
    "end_date = \"2024-10-01\"\n",
    "\n",
    "# Setup the Open-Meteo API client with cache and retry on error\n",
    "cache_session = requests_cache.CachedSession(\".cache\", expire_after=-1)\n",
    "retry_session = retry(cache_session, retries=5, backoff_factor=0.2)\n",
    "openmeteo = openmeteo_requests.Client(session=retry_session)\n",
    "\n",
    "# Make sure all required weather variables are listed here\n",
    "# The order of variables in hourly or daily is important to assign them correctly below\n",
    "url = \"https://archive-api.open-meteo.com/v1/archive\"\n",
    "params = {\n",
    "    \"latitude\": lat_to_insert,\n",
    "    \"longitude\": lon_to_insert,\n",
    "    \"start_date\": start_date,\n",
    "    \"end_date\": end_date,\n",
    "    \"daily\": [\n",
    "        \"temperature_2m_max\",\n",
    "        \"temperature_2m_min\",\n",
    "        \"daylight_duration\",\n",
    "        \"precipitation_sum\",\n",
    "        \"precipitation_hours\",\n",
    "    ],\n",
    "    \"temperature_unit\": \"fahrenheit\",\n",
    "    \"wind_speed_unit\": \"mph\",\n",
    "    \"precipitation_unit\": \"inch\",\n",
    "    \"timezone\": \"America/New_York\",\n",
    "}\n",
    "\n",
    "try: \n",
    "    responses = openmeteo.weather_api(url, params=params)\n",
    "except Exception as e: \n",
    "    print(f\"Error when retrieving data: {e}\")"
   ]
  },
  {
   "cell_type": "code",
   "execution_count": 23,
   "metadata": {},
   "outputs": [],
   "source": [
    "# Table and columns in the database\n",
    "table_name = \"historical_weather\"\n",
    "cols = \"lat, lon, date, temp_max, temp_min, daylight_duration, precipitation_sum, precipitation_hours\"\n",
    "\n",
    "# Go through the responses and insert into database\n",
    "for i in range(len(responses)):\n",
    "    response = responses[0]\n",
    "\n",
    "    # Retrieve daily data\n",
    "    daily = response.Daily()\n",
    "\n",
    "    # Get the data range \n",
    "    daily_data = {\n",
    "        \"date\": pd.date_range(\n",
    "            start=pd.to_datetime(daily.Time(), unit=\"s\", utc=True),\n",
    "            end=pd.to_datetime(daily.TimeEnd(), unit=\"s\", utc=True),\n",
    "            freq=pd.Timedelta(seconds=daily.Interval()),\n",
    "            inclusive=\"left\",\n",
    "        )\n",
    "    }\n",
    "\n",
    "    # Assign each of the selected variables \n",
    "    daily_data[\"temperature_2m_max\"] = daily.Variables(0).ValuesAsNumpy()\n",
    "    daily_data[\"temperature_2m_min\"] = daily.Variables(1).ValuesAsNumpy()\n",
    "    daily_data[\"daylight_duration\"] = daily.Variables(2).ValuesAsNumpy()\n",
    "    daily_data[\"precipitation_sum\"] = daily.Variables(3).ValuesAsNumpy()\n",
    "    daily_data[\"precipitation_hours\"] = daily.Variables(4).ValuesAsNumpy()\n",
    "\n",
    "    # Convert the values to list of tuples \n",
    "    weather_data = [tuple(data) for data in pd.DataFrame(daily_data).to_numpy()]\n",
    "    # Add the latitude and longitude to all of the tuples \n",
    "    lat = lat_to_insert[i]\n",
    "    lon = lon_to_insert[i]\n",
    "    weather_data_with_loc = [(lat, lon) + t for t in weather_data]\n",
    "\n",
    "    # Insert into database \n",
    "    try: \n",
    "        insert_query(client, table_name, cols, weather_data_with_loc)\n",
    "    except Exception as e: \n",
    "        print(f\"Error when inserting data: {e}\")"
   ]
  },
  {
   "cell_type": "markdown",
   "metadata": {},
   "source": [
    "Sports Data"
   ]
  },
  {
   "cell_type": "code",
   "execution_count": 10,
   "metadata": {},
   "outputs": [],
   "source": [
    "# read in csv of sports data \n",
    "sport_data = pd.read_csv(\"past_sports_schedules_census_blocks.csv\")[[\"Date\", \"Location\", \"Home Team\", \"latitude\", \"longitude\", \"nearest_geo_id\"]]\n",
    "\n",
    "\n",
    "table_name = \"sports_events\"\n",
    "cols = \"date, location, home_team, lat, lon, geoid\"\n",
    "sport_data_values = [tuple(data) for data in sport_data.to_numpy()]\n",
    "\n",
    "# Insert values\n",
    "try: \n",
    "    insert_query(client, table_name, cols, sport_data_values)\n",
    "except Exception as e: \n",
    "        print(f\"Error when inserting data: {e}\")"
   ]
  },
  {
   "cell_type": "markdown",
   "metadata": {},
   "source": [
    "Accessing crime data with weather data "
   ]
  },
  {
   "cell_type": "code",
   "execution_count": 29,
   "metadata": {},
   "outputs": [],
   "source": [
    "# Join statement to get crime data with weather data \n",
    "query = \"\"\"\n",
    "WITH census_block_weather AS (\n",
    "\tSELECT geoid, historical_weather.* FROM census_blocks\n",
    "\tJOIN historical_weather ON census_blocks.lat_center = historical_weather.lat AND census_blocks.lon_center = historical_weather.lon\n",
    ")\n",
    "SELECT * FROM crimes \n",
    "JOIN census_block_weather ON crimes.census_block_geoid = census_block_weather.geoid AND date(crimes.offense_date) = census_block_weather.date\n",
    "\"\"\"\n",
    "\n",
    "# Read the data from the database \n",
    "result = client.read(query)"
   ]
  }
 ],
 "metadata": {
  "kernelspec": {
   "display_name": "Python 3",
   "language": "python",
   "name": "python3"
  },
  "language_info": {
   "codemirror_mode": {
    "name": "ipython",
    "version": 3
   },
   "file_extension": ".py",
   "mimetype": "text/x-python",
   "name": "python",
   "nbconvert_exporter": "python",
   "pygments_lexer": "ipython3",
   "version": "3.10.1"
  }
 },
 "nbformat": 4,
 "nbformat_minor": 2
}
